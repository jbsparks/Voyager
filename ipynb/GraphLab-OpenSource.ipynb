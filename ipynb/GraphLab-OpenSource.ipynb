{
 "cells": [
  {
   "cell_type": "code",
   "execution_count": 6,
   "metadata": {
    "collapsed": true
   },
   "outputs": [],
   "source": [
    "import graphlab as gl"
   ]
  },
  {
   "cell_type": "code",
   "execution_count": 7,
   "metadata": {
    "collapsed": true
   },
   "outputs": [],
   "source": [
    "def get_word_frequency(docs):\n",
    "  \"\"\"\n",
    "  Returns the frequency of occorance of words in an SArray of documents\n",
    "  Args:\n",
    "    docs: An SArray (of dtype str) of documents\n",
    "  Returns:\n",
    "    An SFrame with the following columns:\n",
    "     'word'      : Word used\n",
    "     'count'     : Number of times the word occured in all documents.\n",
    "     'frequency' : Average number of occurances of the word in a document.\n",
    "  \"\"\"\n",
    "\n",
    "  # Number of docs\n",
    "  num_docs = docs.size()\n",
    "\n",
    "  # Use the count_words function to count the number of words.\n",
    "  docs_sf = gl.SFrame()\n",
    "  docs_sf['words'] = gl.text_analytics.count_words(docs)\n",
    "\n",
    "  # Stack the dictionary into individual word-count pairs.\n",
    "  docs_sf = docs_sf.stack('words', \n",
    "                         new_column_name=['word', 'count'])\n",
    "\n",
    "  # Count the number of unique words (remove None values)\n",
    "  docs_sf = docs_sf.groupby('word', {'count': gl.aggregate.SUM('count')})\n",
    "  docs_sf['frequency'] = docs_sf['count'] / num_docs\n",
    "  return docs_sf"
   ]
  },
  {
   "cell_type": "code",
   "execution_count": 8,
   "metadata": {
    "collapsed": false
   },
   "outputs": [
    {
     "name": "stderr",
     "output_type": "stream",
     "text": [
      "[ERROR] \u001b[1;32m1449084674 : INFO:     (initialize_globals_from_environment:282): Setting configuration variable GRAPHLAB_FILEIO_ALTERNATIVE_SSL_CERT_FILE to /home/users/jsparks/anaconda/envs/py27/lib/python2.7/site-packages/certifi/cacert.pem\n",
      "\u001b[0m\u001b[1;32m1449084674 : INFO:     (initialize_globals_from_environment:282): Setting configuration variable GRAPHLAB_FILEIO_ALTERNATIVE_SSL_CERT_DIR to \n",
      "\u001b[0mThis trial license of GraphLab Create assigned to jsparks@cray.com has expired. Please contact trial@dato.com for licensing options or to request a free non-commercial license for personal or academic use.\n",
      "\n"
     ]
    },
    {
     "ename": "AssertionError",
     "evalue": "Cannot connect to GraphLab Create engine. Contact support@dato.com for help.",
     "output_type": "error",
     "traceback": [
      "\u001b[1;31m---------------------------------------------------------------------------\u001b[0m",
      "\u001b[1;31mAssertionError\u001b[0m                            Traceback (most recent call last)",
      "\u001b[1;32m<ipython-input-8-1f1ccfbf8890>\u001b[0m in \u001b[0;36m<module>\u001b[1;34m()\u001b[0m\n\u001b[1;32m----> 1\u001b[1;33m \u001b[0mdocs\u001b[0m \u001b[1;33m=\u001b[0m \u001b[0mgl\u001b[0m\u001b[1;33m.\u001b[0m\u001b[0mSArray\u001b[0m\u001b[1;33m(\u001b[0m\u001b[1;33m[\u001b[0m\u001b[1;34m'The quick'\u001b[0m\u001b[1;33m,\u001b[0m \u001b[1;34m'brown fox'\u001b[0m\u001b[1;33m,\u001b[0m \u001b[1;34m'jumps over the'\u001b[0m\u001b[1;33m,\u001b[0m \u001b[1;34m'lazy dog'\u001b[0m\u001b[1;33m]\u001b[0m\u001b[1;33m)\u001b[0m\u001b[1;33m\u001b[0m\u001b[0m\n\u001b[0m",
      "\u001b[1;32m/home/users/jsparks/anaconda/envs/py27/lib/python2.7/site-packages/graphlab/data_structures/sarray.pyc\u001b[0m in \u001b[0;36m__init__\u001b[1;34m(self, data, dtype, ignore_cast_failure, _proxy)\u001b[0m\n\u001b[0;32m    317\u001b[0m             \u001b[0mself\u001b[0m\u001b[1;33m.\u001b[0m\u001b[0m__proxy__\u001b[0m \u001b[1;33m=\u001b[0m \u001b[0mdata\u001b[0m\u001b[1;33m.\u001b[0m\u001b[0m__proxy__\u001b[0m\u001b[1;33m\u001b[0m\u001b[0m\n\u001b[0;32m    318\u001b[0m         \u001b[1;32melse\u001b[0m\u001b[1;33m:\u001b[0m\u001b[1;33m\u001b[0m\u001b[0m\n\u001b[1;32m--> 319\u001b[1;33m             \u001b[0mself\u001b[0m\u001b[1;33m.\u001b[0m\u001b[0m__proxy__\u001b[0m \u001b[1;33m=\u001b[0m \u001b[0mUnitySArrayProxy\u001b[0m\u001b[1;33m(\u001b[0m\u001b[0mglconnect\u001b[0m\u001b[1;33m.\u001b[0m\u001b[0mget_client\u001b[0m\u001b[1;33m(\u001b[0m\u001b[1;33m)\u001b[0m\u001b[1;33m)\u001b[0m\u001b[1;33m\u001b[0m\u001b[0m\n\u001b[0m\u001b[0;32m    320\u001b[0m             \u001b[1;31m# we need to perform type inference\u001b[0m\u001b[1;33m\u001b[0m\u001b[1;33m\u001b[0m\u001b[0m\n\u001b[0;32m    321\u001b[0m             \u001b[1;32mif\u001b[0m \u001b[0mdtype\u001b[0m \u001b[1;32mis\u001b[0m \u001b[0mNone\u001b[0m\u001b[1;33m:\u001b[0m\u001b[1;33m\u001b[0m\u001b[0m\n",
      "\u001b[1;32m/home/users/jsparks/anaconda/envs/py27/lib/python2.7/site-packages/graphlab/connect/main.pyc\u001b[0m in \u001b[0;36mget_client\u001b[1;34m()\u001b[0m\n\u001b[0;32m    285\u001b[0m     \u001b[1;32mif\u001b[0m \u001b[1;32mnot\u001b[0m \u001b[0mis_connected\u001b[0m\u001b[1;33m(\u001b[0m\u001b[1;33m)\u001b[0m\u001b[1;33m:\u001b[0m\u001b[1;33m\u001b[0m\u001b[0m\n\u001b[0;32m    286\u001b[0m         \u001b[0mlaunch\u001b[0m\u001b[1;33m(\u001b[0m\u001b[1;33m)\u001b[0m\u001b[1;33m\u001b[0m\u001b[0m\n\u001b[1;32m--> 287\u001b[1;33m     \u001b[1;32massert\u001b[0m \u001b[0mis_connected\u001b[0m\u001b[1;33m(\u001b[0m\u001b[1;33m)\u001b[0m\u001b[1;33m,\u001b[0m \u001b[0mENGINE_START_ERROR_MESSAGE\u001b[0m\u001b[1;33m\u001b[0m\u001b[0m\n\u001b[0m\u001b[0;32m    288\u001b[0m     \u001b[1;32mreturn\u001b[0m \u001b[0m__CLIENT__\u001b[0m\u001b[1;33m\u001b[0m\u001b[0m\n\u001b[0;32m    289\u001b[0m \u001b[1;33m\u001b[0m\u001b[0m\n",
      "\u001b[1;31mAssertionError\u001b[0m: Cannot connect to GraphLab Create engine. Contact support@dato.com for help."
     ]
    }
   ],
   "source": [
    "docs = gl.SArray(['The quick', 'brown fox', 'jumps over the', 'lazy dog'])"
   ]
  }
 ],
 "metadata": {
  "kernelspec": {
   "display_name": "Python 2",
   "language": "python",
   "name": "python2"
  },
  "language_info": {
   "codemirror_mode": {
    "name": "ipython",
    "version": 2
   },
   "file_extension": ".py",
   "mimetype": "text/x-python",
   "name": "python",
   "nbconvert_exporter": "python",
   "pygments_lexer": "ipython2",
   "version": "2.7.10"
  }
 },
 "nbformat": 4,
 "nbformat_minor": 0
}
