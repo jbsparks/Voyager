{
 "metadata": {
  "name": "",
  "signature": "sha256:9819b0ad35e51f1d245012d74d0eaa69a1093e47974acd99910f59f1cb421432"
 },
 "nbformat": 3,
 "nbformat_minor": 0,
 "worksheets": [
  {
   "cells": [
    {
     "cell_type": "markdown",
     "metadata": {},
     "source": [
      "<div><h1 style=\"width: 500px; margin: 0 auto;\">Blaze and Bokeh in the ETL Pipeline</h1><img src=\"http://continuum.io/media/img/continuum_analytics_logo.png\" style=\"width:200px; float:right\" />\n",
      "</div>"
     ]
    },
    {
     "cell_type": "heading",
     "level": 1,
     "metadata": {},
     "source": [
      "Filepaths and SQL URLs"
     ]
    },
    {
     "cell_type": "code",
     "collapsed": false,
     "input": [
      "# point to where the TSV files reside\n",
      "DATA_DIRECTORY = ''\n",
      "\n",
      "# glob syntax\n",
      "FILENAMES = 'computrabajo-*.tsv'\n",
      "\n",
      "# update with username, host, port, database name\n",
      "POSTGRES_URL = 'postgresql://username@host:port/employment'\n",
      "MYSQL_URL = 'mysql://username@host:port/employment'"
     ],
     "language": "python",
     "metadata": {},
     "outputs": []
    },
    {
     "cell_type": "heading",
     "level": 3,
     "metadata": {},
     "source": [
      "Reload sys for non-ASCII compatibility"
     ]
    },
    {
     "cell_type": "code",
     "collapsed": false,
     "input": [
      "# A hack that ensures that the CSV parser doesn't choke on non-ASCII files\n",
      "import sys\n",
      "reload(sys)\n",
      "sys.setdefaultencoding('utf-8')\n",
      "\n",
      "# Two ints make a float\n",
      "from __future__ import division"
     ],
     "language": "python",
     "metadata": {},
     "outputs": []
    },
    {
     "cell_type": "heading",
     "level": 1,
     "metadata": {},
     "source": [
      "Timer"
     ]
    },
    {
     "cell_type": "code",
     "collapsed": false,
     "input": [
      "import time\n",
      "\n",
      "class Timer(object):\n",
      "    def __init__(self, verbose=False):\n",
      "        self.verbose = verbose\n",
      "\n",
      "    def __enter__(self):\n",
      "        self.start = time.time()\n",
      "        return self\n",
      "\n",
      "    def __exit__(self, *args):\n",
      "        self.end = time.time()\n",
      "        self.secs = self.end - self.start\n",
      "        self.msecs = self.secs * 1000  # millisecs\n",
      "        if self.verbose:\n",
      "            print('elapsed time: %f ms' % self.msecs)"
     ],
     "language": "python",
     "metadata": {},
     "outputs": []
    },
    {
     "cell_type": "heading",
     "level": 1,
     "metadata": {},
     "source": [
      "Imports"
     ]
    },
    {
     "cell_type": "code",
     "collapsed": true,
     "input": [
      "# General\n",
      "import os\n",
      "import glob\n",
      "import codecs\n",
      "from functools import partial\n",
      "import pandas as pd\n",
      "\n",
      "# Bokeh (0.5.1)\n",
      "from bokeh.objects import (Plot, ColumnDataSource, Range1d, DataRange1d,\n",
      "                           PanTool, WheelZoomTool, ResetTool,\n",
      "                           LinearAxis, Grid, Glyph, Legend)\n",
      "from bokeh.widgetobjects import VBox\n",
      "from bokeh.glyphs import Circle, Patches, Quad\n",
      "from bokeh.document import Document\n",
      "from bokeh.session import Session\n",
      "\n",
      "# Blaze (0.6.1)\n",
      "from blaze.expr.table import TableSymbol\n",
      "from blaze.data import CSV\n",
      "from blaze.data import SQL\n",
      "from blaze import into, compute"
     ],
     "language": "python",
     "metadata": {},
     "outputs": []
    },
    {
     "cell_type": "heading",
     "level": 2,
     "metadata": {},
     "source": [
      "Bokeh Server"
     ]
    },
    {
     "cell_type": "code",
     "collapsed": false,
     "input": [
      "document = Document()\n",
      "session = Session()\n",
      "session.use_doc('demo_server')\n",
      "session.load_document(document)"
     ],
     "language": "python",
     "metadata": {},
     "outputs": []
    },
    {
     "cell_type": "heading",
     "level": 2,
     "metadata": {},
     "source": [
      "Blaze Schema and Descriptors"
     ]
    },
    {
     "cell_type": "code",
     "collapsed": false,
     "input": [
      "SCHEMA = '''{Posted_Date: date,\n",
      "            Location_1: string, Location_2: string,\n",
      "            Department: string , Title: string,\n",
      "            Salary: string, Start: string,\n",
      "            Duration: string, Job_Type: string,\n",
      "            Applications: string , Company: string,\n",
      "            Contact: string, Phone: string, Fax: string,\n",
      "            Translated_Location: string, Latitude: float32,\n",
      "            Longitude: float32, Date_First_Seen: date,\n",
      "            URL: string , Date_Last_Seen: date}'''.lower()\n",
      "\n",
      "\n",
      "FILES = sorted(glob.glob(os.path.join(DATA_DIRECTORY, FILENAMES)))\n",
      "NUM_RECORDS = [sum(1 for l in open(tsv_file)) for tsv_file in FILES]\n",
      "TOTAL_RECORDS = sum(NUM_RECORDS)\n",
      "NUM_FILES = len(FILES)\n",
      "\n",
      "tsv_dds = [CSV(tsv_file, delimiter='\\t',\n",
      "                  open=partial(codecs.open,\n",
      "                               encoding='latin-1', errors='ignore'),\n",
      "                  schema=SCHEMA)\n",
      "               for tsv_file in FILES]\n",
      "\n",
      "sql_dd = SQL(POSTGRES_URL, 'data', schema=SCHEMA)\n",
      "mysql_dd = SQL(MYSQL_URL, 'data', schema=SCHEMA)"
     ],
     "language": "python",
     "metadata": {},
     "outputs": []
    },
    {
     "cell_type": "heading",
     "level": 1,
     "metadata": {},
     "source": [
      "Main plot"
     ]
    },
    {
     "cell_type": "code",
     "collapsed": false,
     "input": [
      "data_source = ColumnDataSource(\n",
      "    data=dict(\n",
      "        time=[],\n",
      "        speed=[],\n",
      "        time2=[],\n",
      "        speed2=[]))\n",
      "\n",
      "range_source = ColumnDataSource(\n",
      "    data=dict(\n",
      "        time=[0, 20],\n",
      "        speed=[0, 2500]))\n",
      "\n",
      "def plot1():    \n",
      "    # Plot\n",
      "    x_dr = DataRange1d(sources=[range_source.columns(\"time\")])\n",
      "    y_dr = DataRange1d(sources=[range_source.columns(\"speed\")])\n",
      "\n",
      "    plot = Plot(title=\"Transfer Speed\",\n",
      "                x_range=x_dr, y_range=y_dr,\n",
      "                plot_width=760, plot_height=500)\n",
      "\n",
      "    x_axis = LinearAxis(plot=plot, dimension=0,\n",
      "                        axis_label='Transfer time (s)')\n",
      "    y_axis = LinearAxis(plot=plot, dimension=1,\n",
      "                        axis_label='Records per second')\n",
      "\n",
      "    y_grid = Grid(plot=plot, dimension=1, axis=y_axis)\n",
      "\n",
      "    # Scatter\n",
      "    circle = Circle(x=\"time\", y=\"speed\", size=10, fill_color=\"green\")\n",
      "    circle_glyph = Glyph(data_source=data_source, glyph=circle)\n",
      "    plot.renderers.append(circle_glyph)\n",
      "    \n",
      "    # Scatter2\n",
      "    circle = Circle(x=\"time2\", y=\"speed2\", size=10, fill_color=\"coral\")\n",
      "    circle_glyph2 = Glyph(data_source=data_source, glyph=circle)\n",
      "    plot.renderers.append(circle_glyph2)\n",
      "\n",
      "    # Legend\n",
      "    legend = Legend(plot=plot, orientation=\"bottom_left\",\n",
      "                    label_text_color='#eeeeee')\n",
      "    legend.legends = {\"Postgres\": [circle_glyph], \"MySQL\": [circle_glyph2]}\n",
      "    plot.renderers.append(legend)\n",
      "\n",
      "    plot.background_fill = '#555555'\n",
      "    return plot"
     ],
     "language": "python",
     "metadata": {},
     "outputs": []
    },
    {
     "cell_type": "heading",
     "level": 1,
     "metadata": {},
     "source": [
      "Progress Plot"
     ]
    },
    {
     "cell_type": "code",
     "collapsed": false,
     "input": [
      "progress_source = ColumnDataSource(data=dict(percent=[0]))\n",
      "\n",
      "def plot2():    \n",
      "    # Plot\n",
      "    x_r = Range1d(start=0, end=100)\n",
      "    y_r = Range1d(start=0, end=100)\n",
      "\n",
      "    plot = Plot(title=\"Transfer Progress\",\n",
      "                x_range=x_r, y_range=y_r,\n",
      "                plot_width=760, plot_height=150)\n",
      "\n",
      "    x_axis = LinearAxis(plot=plot, dimension=0,\n",
      "                        axis_label='Percent Complete')\n",
      "\n",
      "    # Quad\n",
      "    quad = Quad(left=0, top=100, bottom=0,\n",
      "                right=\"percent\",\n",
      "                fill_color=\"green\")\n",
      "    quad_glyph = Glyph(data_source=progress_source, glyph=quad)\n",
      "    plot.renderers.append(quad_glyph)\n",
      "\n",
      "    plot.background_fill = '#555555'\n",
      "    return plot"
     ],
     "language": "python",
     "metadata": {},
     "outputs": []
    },
    {
     "cell_type": "heading",
     "level": 2,
     "metadata": {},
     "source": [
      "Update Data"
     ]
    },
    {
     "cell_type": "code",
     "collapsed": false,
     "input": [
      "def plot_update(timer, timer2, index):\n",
      "    \n",
      "    # Update data\n",
      "    time_span = timer.end - start\n",
      "    data_source.data['time'].append(time_span)\n",
      "    range_source.data['time'].append(time_span)\n",
      "\n",
      "\n",
      "    speed = NUM_RECORDS[index] / timer.secs\n",
      "    data_source.data['speed'].append(speed)    \n",
      "    range_source.data['speed'].append(speed)\n",
      "\n",
      "    # Update data\n",
      "    time_span = timer2.end - start\n",
      "    data_source.data['time2'].append(time_span)\n",
      "    range_source.data['time'].append(time_span)\n",
      "\n",
      "\n",
      "    speed = NUM_RECORDS[index] / timer2.secs\n",
      "    data_source.data['speed2'].append(speed)    \n",
      "    range_source.data['speed'].append(speed)\n",
      "\n",
      "    \n",
      "    # Update progress\n",
      "    percent = (sum(NUM_RECORDS[0:index+1]) / TOTAL_RECORDS) * 100\n",
      "    progress_source.data['percent'][0] = percent\n",
      "    \n",
      "    # Push to plot\n",
      "    session.store_objects(data_source, range_source, progress_source)"
     ],
     "language": "python",
     "metadata": {},
     "outputs": []
    },
    {
     "cell_type": "heading",
     "level": 1,
     "metadata": {},
     "source": [
      "Generate dashboard"
     ]
    },
    {
     "cell_type": "code",
     "collapsed": false,
     "input": [
      "layout = VBox(children=[plot1(), plot2()])\n",
      "\n",
      "document.add(layout)\n",
      "session.store_document(document)\n",
      "\n",
      "link = session.object_link(document._plotcontext)\n",
      "import webbrowser as wb\n",
      "wb.open(link);"
     ],
     "language": "python",
     "metadata": {},
     "outputs": []
    },
    {
     "cell_type": "heading",
     "level": 1,
     "metadata": {},
     "source": [
      "Run"
     ]
    },
    {
     "cell_type": "code",
     "collapsed": false,
     "input": [
      "start = time.time()\n",
      "\n",
      "for index, tsv_dd in enumerate(tsv_dds):   \n",
      "\n",
      "    with Timer() as timer:\n",
      "        into(sql_dd, tsv_dd)\n",
      "        \n",
      "    with Timer() as timer2:\n",
      "        into(mysql_dd, tsv_dd)\n",
      "\n",
      "    plot_update(timer, timer2, index)"
     ],
     "language": "python",
     "metadata": {},
     "outputs": []
    },
    {
     "cell_type": "markdown",
     "metadata": {},
     "source": [
      "---------"
     ]
    },
    {
     "cell_type": "heading",
     "level": 1,
     "metadata": {},
     "source": [
      "Country Patches"
     ]
    },
    {
     "cell_type": "code",
     "collapsed": false,
     "input": [
      "import world_countries as wc\n",
      "\n",
      "world_countries = wc.data.copy()\n",
      "countries_source = ColumnDataSource(data= dict(\n",
      "    countries_xs=[world_countries[code]['lons'] for code in world_countries],\n",
      "    countries_ys=[world_countries[code]['lats'] for code in world_countries],\n",
      "    country = [world_countries[code]['name'] for code in world_countries],\n",
      "))"
     ],
     "language": "python",
     "metadata": {},
     "outputs": []
    },
    {
     "cell_type": "heading",
     "level": 1,
     "metadata": {},
     "source": [
      "Posting Location"
     ]
    },
    {
     "cell_type": "code",
     "collapsed": false,
     "input": [
      "ts = TableSymbol('data', schema=SCHEMA)\n",
      "\n",
      "selection = ts[(ts['latitude'] > 10) & (ts['latitude'] < 40)]\n",
      "selection"
     ],
     "language": "python",
     "metadata": {},
     "outputs": []
    },
    {
     "cell_type": "code",
     "collapsed": false,
     "input": [
      "selection = selection[['latitude', 'longitude']]\n",
      "selection"
     ],
     "language": "python",
     "metadata": {},
     "outputs": []
    },
    {
     "cell_type": "code",
     "collapsed": false,
     "input": [
      "df = into(pd.DataFrame, compute(selection, mysql_dd))\n",
      "df"
     ],
     "language": "python",
     "metadata": {},
     "outputs": []
    },
    {
     "cell_type": "code",
     "collapsed": false,
     "input": [
      "df.columns = ['latitude','longitude']\n",
      "geo_source = ColumnDataSource(df)"
     ],
     "language": "python",
     "metadata": {},
     "outputs": []
    },
    {
     "cell_type": "code",
     "collapsed": false,
     "input": [
      "def plot3():\n",
      "    x_r = Range1d(start=-180, end=180)\n",
      "    y_r = Range1d(start=-90, end=90)\n",
      "\n",
      "    plot = Plot(title=\"Posting Location\", x_range=x_r, y_range=y_r, plot_width=760, plot_height=500)\n",
      "\n",
      "    x_axis = LinearAxis(plot=plot, dimension=0, axis_label='Longitude')\n",
      "    y_axis = LinearAxis(plot=plot, dimension=1, axis_label='Latitude')\n",
      "    x_grid = Grid(plot=plot, dimension=0, axis=x_axis)\n",
      "    y_grid = Grid(plot=plot, dimension=1, axis=y_axis)\n",
      "\n",
      "    patches = Patches(xs=\"countries_xs\", ys=\"countries_ys\",\n",
      "                      fill_color=\"#999999\", fill_alpha=0.4,\n",
      "                      line_color=\"#999999\", line_width=1)\n",
      "    patches_glyph = Glyph(data_source=countries_source, glyph=patches)\n",
      "    plot.renderers.append(patches_glyph)\n",
      "\n",
      "    # Scatter\n",
      "    circle = Circle(x=\"longitude\", y=\"latitude\", size=5, fill_color=\"green\")\n",
      "    circle_glyph = Glyph(data_source=geo_source, glyph=circle)\n",
      "    plot.renderers.append(circle_glyph)\n",
      "    \n",
      "    # Tools\n",
      "    pantool = PanTool(dimensions=[\"width\", \"height\"])\n",
      "    wheelzoomtool = WheelZoomTool(dimensions=[\"width\", \"height\"])\n",
      "    resettool = ResetTool()\n",
      "\n",
      "    plot.tools = [pantool, wheelzoomtool, resettool]\n",
      "    \n",
      "    return plot"
     ],
     "language": "python",
     "metadata": {},
     "outputs": []
    },
    {
     "cell_type": "code",
     "collapsed": false,
     "input": [
      "import bokeh.plotting as bkp\n",
      "bkp.output_notebook()\n",
      "bkp.show(plot3())"
     ],
     "language": "python",
     "metadata": {},
     "outputs": []
    }
   ],
   "metadata": {}
  }
 ]
}