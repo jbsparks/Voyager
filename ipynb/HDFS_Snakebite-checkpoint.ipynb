{
 "cells": [
  {
   "cell_type": "code",
   "execution_count": null,
   "metadata": {
    "collapsed": false
   },
   "outputs": [],
   "source": [
    "import snakebite.client as client\n",
    "import snakebite.protobuf.ClientNamenodeProtocol_pb2 as client_proto\n",
    "from snakebite.config import HDFSConfig\n",
    "from snakebite.namenode import Namenode\n",
    "from snakebite.client import Client\n",
    "from snakebite.channel import DataXceiverChannel\n",
    "import Queue"
   ]
  },
  {
   "cell_type": "code",
   "execution_count": 4,
   "metadata": {
    "collapsed": false
   },
   "outputs": [
    {
     "name": "stdout",
     "output_type": "stream",
     "text": [
      "namenode:nid00379 port:8020\n"
     ]
    }
   ],
   "source": [
    "configs = HDFSConfig.get_external_config()\n",
    "namenodes = []\n",
    "config = configs[0]\n",
    "namenode, port = config['namenode'], config['port']\n",
    "print(\"namenode:%s port:%s\" %(namenode,port))"
   ]
  },
  {
   "cell_type": "code",
   "execution_count": 5,
   "metadata": {
    "collapsed": false
   },
   "outputs": [
    {
     "data": {
      "text/plain": [
       "<snakebite.client.Client at 0x7f35c99b8c10>"
      ]
     },
     "execution_count": 5,
     "metadata": {},
     "output_type": "execute_result"
    }
   ],
   "source": [
    "client.Client(namenode,port=port)"
   ]
  },
  {
   "cell_type": "code",
   "execution_count": 6,
   "metadata": {
    "collapsed": false
   },
   "outputs": [
    {
     "ename": "AttributeError",
     "evalue": "'module' object has no attribute '_get_file_info'",
     "output_type": "error",
     "traceback": [
      "\u001b[1;31m---------------------------------------------------------------------------\u001b[0m",
      "\u001b[1;31mAttributeError\u001b[0m                            Traceback (most recent call last)",
      "\u001b[1;32m<ipython-input-6-e6518b8adb26>\u001b[0m in \u001b[0;36m<module>\u001b[1;34m()\u001b[0m\n\u001b[1;32m----> 1\u001b[1;33m \u001b[0mfileinfo\u001b[0m \u001b[1;33m=\u001b[0m \u001b[0mclient\u001b[0m\u001b[1;33m.\u001b[0m\u001b[0m_get_file_info\u001b[0m\u001b[1;33m(\u001b[0m\u001b[1;34m\"/user/jsparks/artofwar.txt\"\u001b[0m\u001b[1;33m)\u001b[0m\u001b[1;33m\u001b[0m\u001b[0m\n\u001b[0m",
      "\u001b[1;31mAttributeError\u001b[0m: 'module' object has no attribute '_get_file_info'"
     ]
    }
   ],
   "source": [
    "fileinfo = client._get_file_info(\"/user/jsparks/artofwar.txt\")"
   ]
  }
 ],
 "metadata": {
  "kernelspec": {
   "display_name": "Python 2",
   "language": "python",
   "name": "python2"
  },
  "language_info": {
   "codemirror_mode": {
    "name": "ipython",
    "version": 2
   },
   "file_extension": ".py",
   "mimetype": "text/x-python",
   "name": "python",
   "nbconvert_exporter": "python",
   "pygments_lexer": "ipython2",
   "version": "2.7.10"
  }
 },
 "nbformat": 4,
 "nbformat_minor": 0
}
