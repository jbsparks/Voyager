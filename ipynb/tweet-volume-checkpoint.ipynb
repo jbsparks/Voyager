{
 "cells": [
  {
   "cell_type": "markdown",
   "metadata": {},
   "source": [
    "<h1 align=\"center\">Visualizing Twitter data with Blaze and Bokeh</h1>"
   ]
  },
  {
   "cell_type": "markdown",
   "metadata": {},
   "source": [
    "## 1.1 Tweet volume and hashtags - PySpark locally"
   ]
  },
  {
   "cell_type": "markdown",
   "metadata": {},
   "source": [
    "### Objectives:\n",
    "\n",
    "- Show advantatges of wrapping Spark with [Blaze](http://blaze.pydata.org/docs/latest/index.html)\n",
    "    - `Table`\n",
    "    - `head`\n",
    "    - `selection`\n",
    "    - `map`\n",
    "    - `by`\n",
    "    - `sort`\n",
    "\n",
    "- Visualize tweet volume and top hashtag by date with [Bokeh](http://bokeh.pydata.org/)\n",
    "    - `scatter`\n",
    "    - `line`\n",
    "    - `hover`\n",
    "\n"
   ]
  },
  {
   "cell_type": "code",
   "execution_count": 1,
   "metadata": {
    "collapsed": true
   },
   "outputs": [],
   "source": [
    "from blaze import *"
   ]
  },
  {
   "cell_type": "markdown",
   "metadata": {},
   "source": [
    "We know our data has the following schema, we do not use the full syntax."
   ]
  },
  {
   "cell_type": "code",
   "execution_count": 2,
   "metadata": {
    "collapsed": true
   },
   "outputs": [],
   "source": [
    "schema=\"\"\"{longitude: float64,\n",
    "latitude: float64,\n",
    "dateTime: string,\n",
    "userid: int64,\n",
    "text: string}\"\"\""
   ]
  },
  {
   "cell_type": "markdown",
   "metadata": {},
   "source": [
    "## 1. Tweet volume and hashtags"
   ]
  },
  {
   "cell_type": "code",
   "execution_count": 3,
   "metadata": {
    "collapsed": true
   },
   "outputs": [],
   "source": [
    "# Coerce was removed in Python3 Python3 has only one string type, so the str() function is all you need.\n",
    "def coerce(x, y):\n",
    "    t = type(x + y)\n",
    "    return (t(x), t(y))"
   ]
  },
  {
   "cell_type": "code",
   "execution_count": 4,
   "metadata": {
    "collapsed": false
   },
   "outputs": [
    {
     "data": {
      "text/plain": [
       "<pyspark.context.SparkContext at 0x7f4cf412d080>"
      ]
     },
     "execution_count": 4,
     "metadata": {},
     "output_type": "execute_result"
    }
   ],
   "source": [
    "sc"
   ]
  },
  {
   "cell_type": "code",
   "execution_count": 5,
   "metadata": {
    "collapsed": false
   },
   "outputs": [],
   "source": [
    "rdd = sc.textFile(\"file:///lus/snx11141/jsparks/blog-spark-kmeans/tweets.csv\")"
   ]
  },
  {
   "cell_type": "code",
   "execution_count": 6,
   "metadata": {
    "collapsed": false
   },
   "outputs": [
    {
     "data": {
      "text/plain": [
       "215229"
      ]
     },
     "execution_count": 6,
     "metadata": {},
     "output_type": "execute_result"
    }
   ],
   "source": [
    "#Check we get the expected number of tweets\n",
    "rdd.count()"
   ]
  },
  {
   "cell_type": "code",
   "execution_count": 7,
   "metadata": {
    "collapsed": false
   },
   "outputs": [],
   "source": [
    "# Same operation on Blaze tables\n",
    "import datetime as dt\n",
    "# Create the schema\n",
    "ds = dshape(\"var * {longitude: float64, latitude: float64, place: string, country: string, dateTime: string, userid: int64, text: string}\")\n",
    "d = Data('/lus/snx11141/jsparks/blog-spark-kmeans/tweets.csv',sep=',', dshape=ds)"
   ]
  },
  {
   "cell_type": "code",
   "execution_count": 8,
   "metadata": {
    "collapsed": false
   },
   "outputs": [
    {
     "data": {
      "text/plain": [
       "['31.189324,30.0109738,Giza Egypt,مصر,Tue Nov 24 15:12:53 CST 2015,2307225594,@AnasAlaa6 دي المخروبة القديمة بتاعتي']"
      ]
     },
     "execution_count": 8,
     "metadata": {},
     "output_type": "execute_result"
    }
   ],
   "source": [
    "# Get a few tweets from the raw Spark RDD\n",
    "rdd.take(1)"
   ]
  },
  {
   "cell_type": "code",
   "execution_count": 9,
   "metadata": {
    "collapsed": false
   },
   "outputs": [
    {
     "data": {
      "text/html": [
       "205008"
      ],
      "text/plain": [
       "205008"
      ]
     },
     "execution_count": 9,
     "metadata": {},
     "output_type": "execute_result"
    }
   ],
   "source": [
    "# Get a few tweets from the same RDD, via Blaze\n",
    "d.count()"
   ]
  },
  {
   "cell_type": "code",
   "execution_count": 10,
   "metadata": {
    "collapsed": false
   },
   "outputs": [
    {
     "data": {
      "text/plain": [
       "dshape(\"\"\"var * {\n",
       "  longitude: float64,\n",
       "  latitude: float64,\n",
       "  place: string,\n",
       "  country: string,\n",
       "  dateTime: string,\n",
       "  userid: int64,\n",
       "  text: string\n",
       "  }\"\"\")"
      ]
     },
     "execution_count": 10,
     "metadata": {},
     "output_type": "execute_result"
    }
   ],
   "source": [
    "d.dshape"
   ]
  },
  {
   "cell_type": "code",
   "execution_count": 11,
   "metadata": {
    "collapsed": false
   },
   "outputs": [
    {
     "data": {
      "text/html": [
       "<table border=\"1\" class=\"dataframe\">\n",
       "  <thead>\n",
       "    <tr style=\"text-align: right;\">\n",
       "      <th></th>\n",
       "      <th>longitude</th>\n",
       "      <th>latitude</th>\n",
       "      <th>place</th>\n",
       "      <th>country</th>\n",
       "      <th>dateTime</th>\n",
       "      <th>userid</th>\n",
       "      <th>text</th>\n",
       "    </tr>\n",
       "  </thead>\n",
       "  <tbody>\n",
       "    <tr>\n",
       "      <th>0</th>\n",
       "      <td>-35.206311</td>\n",
       "      <td>-5.811433</td>\n",
       "      <td>Natal Rio Grande do Norte</td>\n",
       "      <td>Brasil</td>\n",
       "      <td>Tue Nov 24 15:12:53 CST 2015</td>\n",
       "      <td>255228769</td>\n",
       "      <td>I'm at Midway Mall in Natal  RN https://t.co/l...</td>\n",
       "    </tr>\n",
       "    <tr>\n",
       "      <th>1</th>\n",
       "      <td>-119.176996</td>\n",
       "      <td>34.182791</td>\n",
       "      <td>Oxnard CA</td>\n",
       "      <td>United States</td>\n",
       "      <td>Tue Nov 24 15:12:53 CST 2015</td>\n",
       "      <td>1429460480</td>\n",
       "      <td>Ariel camacho af</td>\n",
       "    </tr>\n",
       "    <tr>\n",
       "      <th>2</th>\n",
       "      <td>-5.639560</td>\n",
       "      <td>42.581287</td>\n",
       "      <td>Valverde de la Virgen Castilla y León</td>\n",
       "      <td>España</td>\n",
       "      <td>Tue Nov 24 15:12:53 CST 2015</td>\n",
       "      <td>924016321</td>\n",
       "      <td>En lo malo se conoce a los buenos🍀🙅🏽 @ Virgen ...</td>\n",
       "    </tr>\n",
       "    <tr>\n",
       "      <th>3</th>\n",
       "      <td>-62.965661</td>\n",
       "      <td>-40.783581</td>\n",
       "      <td>Buenos Aires Argentina</td>\n",
       "      <td>Argentina</td>\n",
       "      <td>Tue Nov 24 15:12:53 CST 2015</td>\n",
       "      <td>3354477083</td>\n",
       "      <td>Como algo y nada  qcyo</td>\n",
       "    </tr>\n",
       "    <tr>\n",
       "      <th>4</th>\n",
       "      <td>-51.171934</td>\n",
       "      <td>-30.013600</td>\n",
       "      <td>Porto Alegre Rio Grande do Sul</td>\n",
       "      <td>Brasil</td>\n",
       "      <td>Tue Nov 24 15:12:53 CST 2015</td>\n",
       "      <td>339796957</td>\n",
       "      <td>É impressionante como ela me acalma e me faz e...</td>\n",
       "    </tr>\n",
       "    <tr>\n",
       "      <th>5</th>\n",
       "      <td>51.324703</td>\n",
       "      <td>35.736273</td>\n",
       "      <td>Islamic Republic of Iran</td>\n",
       "      <td>جمهوری اسلامی ایران</td>\n",
       "      <td>Tue Nov 24 15:12:53 CST 2015</td>\n",
       "      <td>187139551</td>\n",
       "      <td>@_albaloo_ جبران کنیم :))</td>\n",
       "    </tr>\n",
       "    <tr>\n",
       "      <th>6</th>\n",
       "      <td>-115.040119</td>\n",
       "      <td>36.066723</td>\n",
       "      <td>Henderson NV</td>\n",
       "      <td>United States</td>\n",
       "      <td>Tue Nov 24 15:12:53 CST 2015</td>\n",
       "      <td>2252314255</td>\n",
       "      <td>Interested in a #Sales #job near #Henderson  N...</td>\n",
       "    </tr>\n",
       "    <tr>\n",
       "      <th>7</th>\n",
       "      <td>-93.557830</td>\n",
       "      <td>44.857207</td>\n",
       "      <td>Chanhassen MN</td>\n",
       "      <td>United States</td>\n",
       "      <td>Tue Nov 24 15:12:53 CST 2015</td>\n",
       "      <td>2194738604</td>\n",
       "      <td>#CustomerService in #Chanhassen  MN: Technical...</td>\n",
       "    </tr>\n",
       "    <tr>\n",
       "      <th>8</th>\n",
       "      <td>-117.396156</td>\n",
       "      <td>33.953349</td>\n",
       "      <td>Riverside CA</td>\n",
       "      <td>United States</td>\n",
       "      <td>Tue Nov 24 15:12:53 CST 2015</td>\n",
       "      <td>27313171</td>\n",
       "      <td>If you're a #Nursing professional in #Riversid...</td>\n",
       "    </tr>\n",
       "    <tr>\n",
       "      <th>9</th>\n",
       "      <td>-58.855186</td>\n",
       "      <td>-27.480223</td>\n",
       "      <td>Capital - Corrientes Argentina</td>\n",
       "      <td>Argentina</td>\n",
       "      <td>Tue Nov 24 15:12:53 CST 2015</td>\n",
       "      <td>197537837</td>\n",
       "      <td>💅💋🌸 @ club Boca unidos https://t.co/bynRlra1MR</td>\n",
       "    </tr>\n",
       "    <tr>\n",
       "      <th>10</th>\n",
       "      <td>-78.868915</td>\n",
       "      <td>38.449569</td>\n",
       "      <td>Harrisonburg VA</td>\n",
       "      <td>United States</td>\n",
       "      <td>Tue Nov 24 15:12:53 CST 2015</td>\n",
       "      <td>22052122</td>\n",
       "      <td>#Sales #Job in #Harrisonburg  VA: Recruiter in...</td>\n",
       "    </tr>\n",
       "  </tbody>\n",
       "</table>"
      ],
      "text/plain": [
       "     longitude   latitude                                  place  \\\n",
       "0   -35.206311  -5.811433              Natal Rio Grande do Norte   \n",
       "1  -119.176996  34.182791                              Oxnard CA   \n",
       "2    -5.639560  42.581287  Valverde de la Virgen Castilla y León   \n",
       "3   -62.965661 -40.783581                 Buenos Aires Argentina   \n",
       "4   -51.171934 -30.013600         Porto Alegre Rio Grande do Sul   \n",
       "5    51.324703  35.736273               Islamic Republic of Iran   \n",
       "6  -115.040119  36.066723                           Henderson NV   \n",
       "7   -93.557830  44.857207                          Chanhassen MN   \n",
       "8  -117.396156  33.953349                           Riverside CA   \n",
       "9   -58.855186 -27.480223         Capital - Corrientes Argentina   \n",
       "10  -78.868915  38.449569                        Harrisonburg VA   \n",
       "\n",
       "                country                      dateTime      userid  \\\n",
       "0                Brasil  Tue Nov 24 15:12:53 CST 2015   255228769   \n",
       "1         United States  Tue Nov 24 15:12:53 CST 2015  1429460480   \n",
       "2                España  Tue Nov 24 15:12:53 CST 2015   924016321   \n",
       "3             Argentina  Tue Nov 24 15:12:53 CST 2015  3354477083   \n",
       "4                Brasil  Tue Nov 24 15:12:53 CST 2015   339796957   \n",
       "5   جمهوری اسلامی ایران  Tue Nov 24 15:12:53 CST 2015   187139551   \n",
       "6         United States  Tue Nov 24 15:12:53 CST 2015  2252314255   \n",
       "7         United States  Tue Nov 24 15:12:53 CST 2015  2194738604   \n",
       "8         United States  Tue Nov 24 15:12:53 CST 2015    27313171   \n",
       "9             Argentina  Tue Nov 24 15:12:53 CST 2015   197537837   \n",
       "10        United States  Tue Nov 24 15:12:53 CST 2015    22052122   \n",
       "\n",
       "                                                 text  \n",
       "0   I'm at Midway Mall in Natal  RN https://t.co/l...  \n",
       "1                                    Ariel camacho af  \n",
       "2   En lo malo se conoce a los buenos🍀🙅🏽 @ Virgen ...  \n",
       "3                              Como algo y nada  qcyo  \n",
       "4   É impressionante como ela me acalma e me faz e...  \n",
       "5                           @_albaloo_ جبران کنیم :))  \n",
       "6   Interested in a #Sales #job near #Henderson  N...  \n",
       "7   #CustomerService in #Chanhassen  MN: Technical...  \n",
       "8   If you're a #Nursing professional in #Riversid...  \n",
       "9      💅💋🌸 @ club Boca unidos https://t.co/bynRlra1MR  \n",
       "..."
      ]
     },
     "execution_count": 11,
     "metadata": {},
     "output_type": "execute_result"
    }
   ],
   "source": [
    "d"
   ]
  },
  {
   "cell_type": "code",
   "execution_count": 16,
   "metadata": {
    "collapsed": false
   },
   "outputs": [
    {
     "data": {
      "text/html": [
       "49938"
      ],
      "text/plain": [
       "49938"
      ]
     },
     "execution_count": 16,
     "metadata": {},
     "output_type": "execute_result"
    }
   ],
   "source": [
    "#Number of tweets from the US\n",
    "t=d[d.country == 'United States'].count()\n",
    "t"
   ]
  },
  {
   "cell_type": "code",
   "execution_count": 38,
   "metadata": {
    "collapsed": false
   },
   "outputs": [
    {
     "name": "stderr",
     "output_type": "stream",
     "text": [
      "/home/users/jsparks/anaconda/envs/py34/lib/python3.5/site-packages/blaze/compute/pandas.py:451: FutureWarning: sort(columns=....) is deprecated, use sort_values(by=.....)\n",
      "  return df.sort(t.key, ascending=t.ascending)\n"
     ]
    },
    {
     "data": {
      "text/html": [
       "<table border=\"1\" class=\"dataframe\">\n",
       "  <thead>\n",
       "    <tr style=\"text-align: right;\">\n",
       "      <th></th>\n",
       "      <th>country</th>\n",
       "      <th>count</th>\n",
       "    </tr>\n",
       "  </thead>\n",
       "  <tbody>\n",
       "    <tr>\n",
       "      <th>174</th>\n",
       "      <td>United States</td>\n",
       "      <td>49938</td>\n",
       "    </tr>\n",
       "    <tr>\n",
       "      <th>79</th>\n",
       "      <td>Indonesia</td>\n",
       "      <td>27447</td>\n",
       "    </tr>\n",
       "    <tr>\n",
       "      <th>25</th>\n",
       "      <td>Brasil</td>\n",
       "      <td>17877</td>\n",
       "    </tr>\n",
       "    <tr>\n",
       "      <th>98</th>\n",
       "      <td>Malaysia</td>\n",
       "      <td>11346</td>\n",
       "    </tr>\n",
       "    <tr>\n",
       "      <th>7</th>\n",
       "      <td>Argentina</td>\n",
       "      <td>10884</td>\n",
       "    </tr>\n",
       "    <tr>\n",
       "      <th>200</th>\n",
       "      <td>日本</td>\n",
       "      <td>10562</td>\n",
       "    </tr>\n",
       "    <tr>\n",
       "      <th>170</th>\n",
       "      <td>Türkiye</td>\n",
       "      <td>8459</td>\n",
       "    </tr>\n",
       "    <tr>\n",
       "      <th>107</th>\n",
       "      <td>México</td>\n",
       "      <td>7047</td>\n",
       "    </tr>\n",
       "    <tr>\n",
       "      <th>133</th>\n",
       "      <td>Republika ng Pilipinas</td>\n",
       "      <td>6933</td>\n",
       "    </tr>\n",
       "    <tr>\n",
       "      <th>197</th>\n",
       "      <td>ประเทศไทย</td>\n",
       "      <td>6724</td>\n",
       "    </tr>\n",
       "    <tr>\n",
       "      <th>173</th>\n",
       "      <td>United Kingdom</td>\n",
       "      <td>3487</td>\n",
       "    </tr>\n",
       "  </tbody>\n",
       "</table>"
      ],
      "text/plain": [
       "                    country  count\n",
       "174           United States  49938\n",
       "79                Indonesia  27447\n",
       "25                   Brasil  17877\n",
       "98                 Malaysia  11346\n",
       "7                 Argentina  10884\n",
       "200                      日本  10562\n",
       "170                 Türkiye   8459\n",
       "107                  México   7047\n",
       "133  Republika ng Pilipinas   6933\n",
       "197               ประเทศไทย   6724\n",
       "..."
      ]
     },
     "execution_count": 38,
     "metadata": {},
     "output_type": "execute_result"
    }
   ],
   "source": [
    "s=by(d.country, count=d.country.count())\n",
    "s.sort('count',ascending=False)"
   ]
  },
  {
   "cell_type": "markdown",
   "metadata": {},
   "source": [
    "### Interacting with Spark\n",
    "We'd like to flatten these lists of strings down. Unfortunately this isn't currently supported in Blaze (it's not a standard relational algebra operation) so we'll have to rely on raw Spark. Fortunately the raw data structures are never far away. Here we swap back to Spark, perform the flattening, and then swap back to Blaze."
   ]
  },
  {
   "cell_type": "code",
   "execution_count": null,
   "metadata": {
    "collapsed": true
   },
   "outputs": [],
   "source": [
    "countries = d[d.country != 'None']\n",
    "countries2 = countries[['country','count']].map(lambda x, y)"
   ]
  },
  {
   "cell_type": "code",
   "execution_count": 15,
   "metadata": {
    "collapsed": false
   },
   "outputs": [
    {
     "name": "stdout",
     "output_type": "stream",
     "text": [
      "Wed Nov 25 11:09:39 CST 2015\r\n"
     ]
    }
   ],
   "source": [
    "!date"
   ]
  }
 ],
 "metadata": {
  "kernelspec": {
   "display_name": "pySpark (Spark 1.5.1-py35)",
   "language": "python",
   "name": "pyspark"
  },
  "language_info": {
   "codemirror_mode": {
    "name": "ipython",
    "version": 3
   },
   "file_extension": ".py",
   "mimetype": "text/x-python",
   "name": "python",
   "nbconvert_exporter": "python",
   "pygments_lexer": "ipython3",
   "version": "3.5.0"
  }
 },
 "nbformat": 4,
 "nbformat_minor": 0
}
