{
 "cells": [
  {
   "cell_type": "markdown",
   "metadata": {},
   "source": [
    "## HiBench with Metrices and plotting of internal data\n",
    "\n",
    "**Note** the version of spark used in these benchmakrs has a special configuration file which enables extra metrics and counter information to be sent to influxdb. We can use Python to access the data and generate graphs via Bokeh.\n",
    "\n",
    "**Also note** that the conf/99-... script has been setup for small datasets.\n",
    "\n",
    "Run the terasort prepscript"
   ]
  },
  {
   "cell_type": "code",
   "execution_count": 14,
   "metadata": {
    "collapsed": false
   },
   "outputs": [
    {
     "name": "stdout",
     "output_type": "stream",
     "text": [
      "patching args=\n",
      "Parsing conf: /lus/snx11141/jsparks/HiBench/conf/00-default-properties.conf\n",
      "Parsing conf: /lus/snx11141/jsparks/HiBench/conf/01-default-streamingbench.conf\n",
      "Parsing conf: /lus/snx11141/jsparks/HiBench/conf/10-data-scale-profile.conf\n",
      "Parsing conf: /lus/snx11141/jsparks/HiBench/conf/20-samza-common.conf\n",
      "Parsing conf: /lus/snx11141/jsparks/HiBench/conf/30-samza-workloads.conf\n",
      "Parsing conf: /lus/snx11141/jsparks/HiBench/conf/99-user_defined_properties.conf\n",
      "Parsing conf: /lus/snx11141/jsparks/HiBench/workloads/terasort/conf/00-terasort-default.conf\n",
      "Parsing conf: /lus/snx11141/jsparks/HiBench/workloads/terasort/conf/10-terasort-userdefine.conf\n",
      "probe sleep jar: /usr/hdp/2.3.0.0-2557/hadoop/client/hadoop-mapreduce-client-jobclient-2.7.1.2.3.0.0-2557.jar\n",
      "\u001b[1;32mstart \u001b[0m\u001b[4;32mHadoopPrepareTerasort\u001b[0m \u001b[1;32mbench\u001b[0m\n",
      "\u001b[1;36mhdfs rm -r: \u001b[0;36m/usr/hdp/current/hadoop-client/bin/hadoop --config /etc/hadoop/conf fs -rm -r -skipTrash hdfs://nid00379:8020/user/jsparks/HiBench/Terasort/Input\u001b[0m\n",
      "\n",
      "\u001b[1;32mSubmit MapReduce Job: \u001b[0;32m/usr/hdp/current/hadoop-client/bin/hadoop --config /etc/hadoop/conf jar /usr/hdp/2.3.0.0-2557/hadoop-mapreduce/hadoop-mapreduce-examples-2.7.1.2.3.0.0-2557.jar teragen -Dmapreduce.job.maps=12 -Dmapreduce.job.reduces=12 3200000 hdfs://nid00379:8020/user/jsparks/HiBench/Terasort/Input\u001b[0m\n",
      "\u001b[0;33mWARNING: Use \"yarn jar\" to launch YARN applications.\u001b[0m\u001b[K\n",
      "         Bytes Written=320000000\u001b[K\n",
      "\u001b[1;32mfinish \u001b[0m\u001b[4;32mHadoopPrepareTerasort\u001b[0m \u001b[1;32mbench\u001b[0m\n",
      "\n",
      "\n",
      "\n",
      "\n"
     ]
    }
   ],
   "source": [
    "!(cd /lus/snx11141/jsparks/HiBench; workloads/terasort/prepare/prepare.sh)"
   ]
  },
  {
   "cell_type": "markdown",
   "metadata": {},
   "source": [
    "Run the actual test. In this example we are using the spark python version"
   ]
  },
  {
   "cell_type": "code",
   "execution_count": null,
   "metadata": {
    "collapsed": false
   },
   "outputs": [],
   "source": [
    "!(cd /lus/snx11141/jsparks/HiBench; workloads/terasort/spark/scala/bin/run.sh)"
   ]
  },
  {
   "cell_type": "code",
   "execution_count": null,
   "metadata": {
    "collapsed": false
   },
   "outputs": [],
   "source": [
    "!hadoop fs -du -h hdfs://nid00379:8020/user/jsparks/HiBench/Terasort/Output"
   ]
  },
  {
   "cell_type": "code",
   "execution_count": null,
   "metadata": {
    "collapsed": false
   },
   "outputs": [],
   "source": [
    "from influxdb import InfluxDBClient\n",
    "client = InfluxDBClient(host=\"172.31.23.141\", port=8086, database='influxdb')"
   ]
  },
  {
   "cell_type": "code",
   "execution_count": null,
   "metadata": {
    "collapsed": false
   },
   "outputs": [],
   "source": [
    "dbs=client.get_list_database()\n",
    "dbs"
   ]
  },
  {
   "cell_type": "code",
   "execution_count": null,
   "metadata": {
    "collapsed": false
   },
   "outputs": [],
   "source": [
    "client.switch_database(\"graphite\")\n",
    "series=client.get_list_series()\n",
    "series"
   ]
  }
 ],
 "metadata": {
  "kernelspec": {
   "display_name": "Python 2",
   "language": "python",
   "name": "python2"
  },
  "language_info": {
   "codemirror_mode": {
    "name": "ipython",
    "version": 2
   },
   "file_extension": ".py",
   "mimetype": "text/x-python",
   "name": "python",
   "nbconvert_exporter": "python",
   "pygments_lexer": "ipython2",
   "version": "2.7.10"
  }
 },
 "nbformat": 4,
 "nbformat_minor": 0
}
