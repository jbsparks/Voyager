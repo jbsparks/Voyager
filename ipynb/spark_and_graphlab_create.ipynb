{
 "cells": [
  {
   "cell_type": "markdown",
   "metadata": {},
   "source": [
    "# Using GraphLab Create with Apache Spark"
   ]
  },
  {
   "cell_type": "markdown",
   "metadata": {},
   "source": [
    "In this notebook we demonstrate how to use Apache Spark with GraphLab Create. For this notebook, we will utilize [Apache Spark](http://spark.apache.org/) as a platform for doing large-scale data engineering.\n",
    "\n",
    "The project is to learn a topic model using Wikipedia data, to see what topics are most represented in Wikipedia. The parts required for this project are:\n",
    "1. [Set up environment](#Step-1:-Set-up-environment)\n",
    "1. [Turn Raw Wikipedia text into Bag of Words, Using Spark](#Step-2:-Turn-Raw-Wikipedia-text-into-Bag-of-Words,-Using-Spark)\n",
    "1. [Ingest Spark RDD as SFrame](#Step-3:-Ingest-Spark-RDD-as-SFrame)\n",
    "1. [Learn Topic Model](#Step-4:-Learn-Topic-Model)\n",
    "1. [Explore topics](#Step-5:-Explore-the-Topics)\n",
    "1. [Save Results to Spark RDD](#Step-6:-Save-Results-to-Spark-RDD)\n",
    "\n",
    "**Note:** Setting up Spark and PySpark are out of scope for this notebook, but are required for following along. \n",
    "\n",
    "By using PySpark and GraphLab Create together this notebook shows how easy it is to use both systems together.\n",
    "\n",
    "#### Note: This notebook requires GraphLab Create 1.3 and Spark 1.1"
   ]
  },
  {
   "cell_type": "markdown",
   "metadata": {},
   "source": [
    "### Step 1: Set up environment"
   ]
  },
  {
   "cell_type": "markdown",
   "metadata": {},
   "source": [
    "There are many different ways to configure PySpark, but in order to use it in a standalone Python script (not in pysspark shell or using spark-submit) a handful of environment variables need to be set up correctly. The most convenient way to set these environment variables is by setting them in the shell configuration (ex. ```~/.bash_profile``` or ```~/.zshrc```). For instructive purposes, here are the variables that need to be set. \n",
    "\n",
    "**Note:** Running this notebook as is may not configure these environment variables correctly."
   ]
  },
  {
   "cell_type": "code",
   "execution_count": null,
   "metadata": {
    "collapsed": false
   },
   "outputs": [],
   "source": [
    "# In order to be able to correctly import pyspark, configure SPARK_HOME and PYTHONPATH correctly\n",
    "# These are one way to \n",
    "!export HADOOP_CONF_DIR=/etc/hadoop/conf\n",
    "!export SPARK_HOME=/lus/snx11141/spark/spark-1.5.0\n",
    "import os\n",
    "os.environ['HADOOP_CONF_DIR'] = '/etc/hadoop/conf'\n",
    "os.environ['SPARK_HOME'] = '/lus/snx11141/spark/spark-1.5.0'\n",
    "os.environ['PYTHONPATH'] = '%s/python:%s' % (os.environ['SPARK_HOME'], os.environ.get('PYTHONPATH', ''))"
   ]
  },
  {
   "cell_type": "markdown",
   "metadata": {},
   "source": [
    "GraphLab Create ships with a Spark Integration JAR, which is required in order to use PySpark with GraphLab Create. This JAR needs to be added to the Spark CLASSPATH. The following shell script will add the JAR to the ```spark-defaults.conf``` file. If running locally, you may want to configure the ```spark.driver.memory``` parameter to a larger value so the JVM doesn't run out of memory."
   ]
  },
  {
   "cell_type": "code",
   "execution_count": null,
   "metadata": {
    "collapsed": false
   },
   "outputs": [],
   "source": [
    "%%bash\n",
    "export HADOOP_CONF_DIR=/etc/hadoop/conf\n",
    "export SPARK_HOME=/lus/snx11141/spark/spark-1.5.0\n",
    "export PYTHONPATH=$SPARK_HOME/python:$PYTHONPATH\n",
    "\n",
    "already_exists=$(grep -c graphlab-create-spark-integration.jar $SPARK_HOME/conf/spark-defaults.conf)\n",
    "if [ $already_exists -eq 0 ]\n",
    "then\n",
    "    echo \"spark.driver.extraClassPath `python -c 'import graphlab as gl; print gl.get_spark_integration_jar_path();'` \" >> $SPARK_HOME/conf/spark-defaults.conf\n",
    "    echo \"Added GraphLab Spark Integration JAR to $SPARK_HOME/conf/spark-defaults.conf\"\n",
    "else\n",
    "    echo \"GraphLab Spark Integration JAR already added to Spark Configuration, doing nothing.\"\n",
    "fi"
   ]
  },
  {
   "cell_type": "markdown",
   "metadata": {},
   "source": [
    "### Step 2: Turn Raw Wikipedia text into Bag of Words, Using Spark"
   ]
  },
  {
   "cell_type": "code",
   "execution_count": 1,
   "metadata": {
    "collapsed": false
   },
   "outputs": [
    {
     "name": "stdout",
     "output_type": "stream",
     "text": [
      "['', '/opt/cray/sdb/1.0-1.0502.58450.3.27.ari/lib64/py', '/home/users/jsparks/anaconda/envs/dato-env/lib/python27.zip', '/home/users/jsparks/anaconda/envs/dato-env/lib/python2.7', '/home/users/jsparks/anaconda/envs/dato-env/lib/python2.7/plat-linux2', '/home/users/jsparks/anaconda/envs/dato-env/lib/python2.7/lib-tk', '/home/users/jsparks/anaconda/envs/dato-env/lib/python2.7/lib-old', '/home/users/jsparks/anaconda/envs/dato-env/lib/python2.7/lib-dynload', '/ufs/home/users/jsparks/anaconda/envs/dato-env/lib/python2.7/site-packages/setuptools-18.3.2-py2.7.egg', '/home/users/jsparks/anaconda/envs/dato-env/lib/python2.7/site-packages', '/home/users/jsparks/anaconda/envs/dato-env/lib/python2.7/site-packages/IPython/extensions', '/ufs/home/users/jsparks/.ipython', '/lus/snx11141/spark/spark-1.5.0/python']\n",
      "{'ASSEMBLER_AARCH64': '/cray/css/users/bhj/binutils/aarch64-binutils/bin/aarch64-linux-gnu-as', 'PE_PGI_DEFAULT_FIXED_PKGCONFIG_PATH': '/opt/cray/parallel-netcdf/1.6.1/PGI/15.3/lib/pkgconfig:/opt/cray/ga/5.3.0.3/PGI/15.3/lib/pkgconfig:/opt/cray/hdf5-parallel/1.8.14/PGI/15.3/lib/pkgconfig:/opt/cray/netcdf/4.3.3.1/PGI/15.3/lib/pkgconfig:/opt/cray/hdf5/1.8.14/PGI/15.3/lib/pkgconfig:/opt/cray/netcdf-hdf5parallel/4.3.3.1/PGI/15.3/lib/pkgconfig', 'CRAY_LIBSCI_BASE_DIR': '/opt/cray/libsci/13.2.0', 'PE_TPSL_DEFAULT_GENCOMPILERS_PGI_interlagos': '15.3', 'CPU': 'x86_64', 'PE_PETSC_DEFAULT_VOLATILE_PKGCONFIG_PATH': '/opt/cray/petsc/3.6.1.0/complex/@PRGENV@/@PE_PETSC_DEFAULT_GENCOMPS@/@PE_PETSC_DEFAULT_TARGET@/lib/pkgconfig', 'INFOPATH': '/usr/local/info:/usr/share/info:/usr/info', 'PE_LIBSCI_GENCOMPILERS_CRAY_x86_64': '8.3', 'HISTSIZE': '1000', 'PE_TPSL_64_DEFAULT_GENCOMPS_INTEL_x86_64': '140', 'CRAYLIBS_AARCH64': '/opt/cray/cce/8.4.1.101/craylibs/aarch64', 'CRAY_LIBSCI_VERSION': '13.2.0', 'JAVA_HOME': '/lus/snx11141/jsparks/jdk1.7.0_71', 'JPY_PARENT_PID': '24228', 'PE_LIBSCI_VOLATILE_PKGCONFIG_PATH': '/opt/cray/libsci/13.2.0/@PRGENV@/@PE_LIBSCI_GENCOMPS@/@PE_LIBSCI_TARGET@/lib/pkgconfig', 'INPUTRC': '/home/users/jsparks/.inputrc', 'PE_NETCDF_HDF5PARALLEL_DEFAULT_VOLATILE_PKGCONFIG_PATH': '/opt/cray/netcdf-hdf5parallel/4.3.3.1/@PRGENV@/@PE_NETCDF_HDF5PARALLEL_DEFAULT_GENCOMPS@/lib/pkgconfig', 'PE_HDF5_DEFAULT_VOLATILE_PKGCONFIG_PATH': '/opt/cray/hdf5/1.8.14/@PRGENV@/@PE_HDF5_DEFAULT_GENCOMPS@/lib/pkgconfig', 'HADOOP_CONF_DIR': '/etc/hadoop/conf', 'PE_TRILINOS_DEFAULT_VOLATILE_PKGCONFIG_PATH': '/opt/cray/trilinos/11.12.1.5/@PRGENV@/@PE_TRILINOS_DEFAULT_GENCOMPS@/@PE_TRILINOS_DEFAULT_TARGET@/lib/pkgconfig', 'MOABHOMEDIR': '/var/spool/moab', 'PE_TPSL_DEFAULT_GENCOMPS_PGI_x86_64': '153', 'PE_PETSC_DEFAULT_REQUIRED_PRODUCTS': 'PE_MPICH:PE_LIBSCI:PE_TPSL', 'PE_TPSL_DEFAULT_GENCOMPS_CRAY_interlagos': '83', 'PE_PETSC_DEFAULT_GENCOMPILERS_GNU_haswell': '5.1 4.9', 'CSHEDIT': 'emacs', 'PE_TRILINOS_DEFAULT_GENCOMPILERS_INTEL_x86_64': '14.0', 'CRAY_UDREG_INCLUDE_OPTS': '-I/opt/cray/udreg/2.3.2-1.0502.9889.2.20.ari/include', 'USER': 'jsparks', 'PE_LIBSCI_DEFAULT_GENCOMPS_INTEL_x86_64': '140', 'PE_TPSL_64_DEFAULT_GENCOMPILERS_GNU_x86_64': '5.1 4.9', 'JDK_HOME': '/usr/lib64/jvm/java', 'PE_HDF5_DEFAULT_GENCOMPS_GNU': '51 49 48', 'PE_TPSL_DEFAULT_GENCOMPILERS_INTEL_x86_64': '14.0', 'CRAY_LIBSCI_DIR': '/opt/cray/libsci/13.2.0', 'PE_TPSL_64_DEFAULT_GENCOMPILERS_INTEL_x86_64': '14.0', 'PE_HDF5_PARALLEL_DEFAULT_GENCOMPILERS_GNU': '5.1 4.9 4.8', 'M2_HOME': '/lus/snx11141/jsparks/apache-maven-3.2.3', 'LINKER_X86_64': '/opt/cray/cce/8.4.1.101/cray-binutils/x86_64-unknown-linux-gnu/bin/ld', 'JAVA_BINDIR': '/usr/lib64/jvm/java/bin', 'PE_NETCDF_DEFAULT_VOLATILE_PKGCONFIG_PATH': '/opt/cray/netcdf/4.3.3.1/@PRGENV@/@PE_NETCDF_DEFAULT_GENCOMPS@/lib/pkgconfig', 'PE_TPSL_DEFAULT_GENCOMPS_CRAY_x86_64': '83', 'PE_MPICH_DEFAULT_FIXED_PRGENV': 'INTEL', 'PE_HDF5_PARALLEL_DEFAULT_FIXED_PRGENV': 'CRAY PGI INTEL', 'PE_TPSL_64_DEFAULT_GENCOMPS_CRAY_sandybridge': '83', 'PE_SMA_DEFAULT_DIR_PGI_DEFAULT64': '64', 'PE_PKGCONFIG_PRODUCTS_DEFAULT': 'PE_PAPI', 'PE_LIBSCI_DEFAULT_OMP_REQUIRES_openmp': '_mp', 'PE_LIBSCI_GENCOMPS_PGI_x86_64': '153', 'PE_HDF5_PARALLEL_DEFAULT_GENCOMPS_GNU': '51 49 48', '_LMFILES_': '/opt/modulefiles/modules/3.2.10.4:/opt/cray/ari/modulefiles/nodestat/2.2-1.0502.58998.2.7.ari:/opt/cray/ari/modulefiles/sdb/1.0-1.0502.58450.3.27.ari:/opt/cray/ari/modulefiles/alps/5.2.3-2.0502.9295.14.14.ari:/opt/cray/modulefiles/lustre-cray_ari_s/2.5_3.0.101_0.35.1_1.0502.8640.15.1-1.0502.18911.12.4:/opt/cray/ari/modulefiles/udreg/2.3.2-1.0502.9889.2.20.ari:/opt/cray/ari/modulefiles/ugni/6.0-1.0502.10245.9.9.ari:/opt/cray/ari/modulefiles/gni-headers/4.0-1.0502.10317.9.2.ari:/opt/cray/ari/modulefiles/dmapp/7.0.1-1.0502.10246.8.47.ari:/opt/cray/ari/modulefiles/xpmem/0.1-2.0502.57015.1.15.ari:/opt/modulefiles/hss-llm/7.2.0:/opt/modulefiles/Base-opts/1.0.2-1.0502.57047.1.1.ari:/opt/cray/craype/2.4.3.1/modulefiles/craype-network-aries:/opt/cray/modulefiles/craype/2.4.3.1:/opt/modulefiles/cce/8.4.1.101:/opt/modulefiles/totalview-support/1.2.0.6:/opt/modulefiles/totalview/8.15.7:/opt/cray/modulefiles/cray-libsci/13.2.0:/opt/cray/ari/modulefiles/pmi/5.0.9-1.0000.10911.0.0.ari:/opt/cray/ari/modulefiles/rca/1.0.0-2.0502.57212.2.56.ari:/opt/cray/modulefiles/atp/1.8.3:/opt/cray/modulefiles/PrgEnv-cray/5.2.56:/opt/modulefiles/moab/7.2.8-2014052016-4286b3ee-b7-SUSE11:/opt/modulefiles/torque/4.2.8:/opt/cray/modulefiles/cray-mpich/7.2.5:/opt/cray/craype/2.4.3.1/modulefiles/craype-haswell', 'PE_LIBSCI_DEFAULT_GENCOMPILERS_PGI_x86_64': '15.3', 'MODULE_VERSION': '3.2.10.4', 'LIBSCI_VERSION': '13.2.0', 'CRAY_XPMEM_INCLUDE_OPTS': '-I/opt/cray/xpmem/0.1-2.0502.57015.1.15.ari/include', 'PE_MPICH_DEFAULT_GENCOMPS_GNU': '51 49', 'QTDIR': '/usr/lib/qt3', 'NUMPY_ALTERNATE_MALLOC': '/ufs/home/users/jsparks/anaconda/envs/dato-env/lib/python2.7/site-packages/graphlab/libunity_shared.so', 'CRAY_FTN_VERSION': '8.4.1.101', 'PE_LIBSCI_GENCOMPS_INTEL_x86_64': '140', 'PE_GA_DEFAULT_FIXED_PRGENV': 'CRAY PGI INTEL', 'CONDA_ENV_PATH': '/home/users/jsparks/anaconda', 'INCLUDE_PATH_X86_64': '/opt/cray/cce/8.4.1.101/craylibs/x86-64/include', 'PE_GA_DEFAULT_GENCOMPILERS_GNU': '5.1 4.9', 'PE_FORTRAN_PKGCONFIG_LIBS': 'mpichf90', 'PE_MPICH_GENCOMPS_PGI': '153', 'PE_PAPI_DEFAULT_ACCEL_LIBS_nvidia35': ',-lcupti,-lcudart,-lcuda', 'CRAYLMD_LICENSE_FILE': '/opt/cray/cce/cce.lic', 'PE_LEVEL': '8.4', 'NNTPSERVER': 'news', 'ATP_IGNORE_SIGTERM': '1', 'HOST': 'clogin75', 'PE_NETCDF_HDF5PARALLEL_DEFAULT_VOLATILE_PRGENV': 'GNU', 'GIT_PAGER': 'cat', 'BASH_FUNC_module()': '() {  eval `/opt/modules/3.2.10.4/bin/modulecmd bash $*`\\n}', 'PE_MPICH_DEFAULT_GENCOMPILERS_GNU': '5.1 4.9', 'PE_MPICH_MODULE_NAME': 'cray-mpich', 'PE_LIBSCI_ACC_DEFAULT_VOLATILE_PRGENV': 'CRAY GNU', 'PE_FFTW_DEFAULT_VOLATILE_PKGCONFIG_PATH': '/opt/cray/fftw/3.3.4.5/@PE_FFTW_DEFAULT_TARGET@/lib/pkgconfig', 'PE_PETSC_DEFAULT_GENCOMPS_INTEL_haswell': '140', 'PE_PARALLEL_NETCDF_DEFAULT_VOLATILE_PKGCONFIG_PATH': '/opt/cray/parallel-netcdf/1.6.1/@PRGENV@/@PE_PARALLEL_NETCDF_DEFAULT_GENCOMPS@/lib/pkgconfig', 'JRE_HOME': '/usr/lib64/jvm/java/jre', 'PE_TPSL_DEFAULT_VOLATILE_PKGCONFIG_PATH': '/opt/cray/tpsl/1.5.2/@PRGENV@/@PE_TPSL_DEFAULT_GENCOMPS@/@PE_TPSL_DEFAULT_TARGET@/lib/pkgconfig', 'PE_LIBSCI_DEFAULT_GENCOMPS_GNU_x86_64': '51 49', 'PE_LIBSCI_REQUIRED_PRODUCTS': 'PE_MPICH', 'PE_HDF5_DEFAULT_FIXED_PRGENV': 'CRAY PGI INTEL', 'PE_SMA_DEFAULT_VOLATILE_PKGCONFIG_PATH': '/opt/cray/mpt/7.2.5/gni/sma@PE_SMA_DEFAULT_DIR_DEFAULT64@/lib64/pkgconfig', 'PE_TPSL_DEFAULT_VOLATILE_PRGENV': 'CRAY CRAY64 GNU GNU64 INTEL INTEL64 PGI PGI64', 'PE_TPSL_64_DEFAULT_GENCOMPS_CRAY_interlagos': '83', 'PE_MPICH_PKGCONFIG_VARIABLES': 'PE_MPICH_NV_LIBS_@accelerator@:PE_MPICH_MULTITHREADED_LIBS_@multithreaded@', 'LIBSCI_BASE_DIR': '/opt/cray/libsci/13.2.0', 'PE_PETSC_DEFAULT_GENCOMPILERS_CRAY_sandybridge': '8.3', 'MODULE_VERSION_STACK': '3.2.10.4', 'COLORTERM': '1', 'PE_TPSL_64_DEFAULT_GENCOMPS_GNU_sandybridge': '51 49', 'PE_HDF5_PARALLEL_DEFAULT_VOLATILE_PKGCONFIG_PATH': '/opt/cray/hdf5-parallel/1.8.14/@PRGENV@/@PE_HDF5_PARALLEL_DEFAULT_GENCOMPS@/lib/pkgconfig', 'PE_MPICH_DIR_PGI_DEFAULT64': '64', 'PE_GA_DEFAULT_VOLATILE_PRGENV': 'GNU', 'LOADEDMODULES': 'modules/3.2.10.4:nodestat/2.2-1.0502.58998.2.7.ari:sdb/1.0-1.0502.58450.3.27.ari:alps/5.2.3-2.0502.9295.14.14.ari:lustre-cray_ari_s/2.5_3.0.101_0.35.1_1.0502.8640.15.1-1.0502.18911.12.4:udreg/2.3.2-1.0502.9889.2.20.ari:ugni/6.0-1.0502.10245.9.9.ari:gni-headers/4.0-1.0502.10317.9.2.ari:dmapp/7.0.1-1.0502.10246.8.47.ari:xpmem/0.1-2.0502.57015.1.15.ari:hss-llm/7.2.0:Base-opts/1.0.2-1.0502.57047.1.1.ari:craype-network-aries:craype/2.4.3.1:cce/8.4.1.101:totalview-support/1.2.0.6:totalview/8.15.7:cray-libsci/13.2.0:pmi/5.0.9-1.0000.10911.0.0.ari:rca/1.0.0-2.0502.57212.2.56.ari:atp/1.8.3:PrgEnv-cray/5.2.56:moab/7.2.8-2014052016-4286b3ee-b7-SUSE11:torque/4.2.8:cray-mpich/7.2.5:craype-haswell', 'PE_PETSC_DEFAULT_GENCOMPILERS_CRAY_x86_64': '8.3', 'CLICOLOR': '1', 'PE_PAPI_DEFAULT_PKGCONFIG_VARIABLES': 'PE_PAPI_ACCEL_LIBS_@accelerator@', 'CRAY_LD_LIBRARY_PATH': '/opt/cray/mpt/7.2.5/gni/mpich2-cray/8.3/lib:/opt/cray/rca/1.0.0-2.0502.57212.2.56.ari/lib64:/opt/cray/pmi/5.0.9-1.0000.10911.0.0.ari/lib64:/opt/cray/libsci/13.2.0/CRAY/8.3/x86_64/lib:/opt/cray/cce/8.4.1.101/CC/x86-64/lib/x86-64:/opt/cray/cce/8.4.1.101/craylibs/x86-64:/opt/cray/xpmem/0.1-2.0502.57015.1.15.ari/lib64:/opt/cray/dmapp/7.0.1-1.0502.10246.8.47.ari/lib64:/opt/cray/ugni/6.0-1.0502.10245.9.9.ari/lib64:/opt/cray/udreg/2.3.2-1.0502.9889.2.20.ari/lib64:/opt/cray/alps/5.2.3-2.0502.9295.14.14.ari/lib64', 'PE_INTEL_DEFAULT_FIXED_PKGCONFIG_PATH': '/opt/cray/parallel-netcdf/1.6.1/INTEL/14.0/lib/pkgconfig:/opt/cray/mpt/7.2.5/gni/mpich2-intel/14.0/lib/pkgconfig:/opt/cray/ga/5.3.0.3/INTEL/14.0/lib/pkgconfig:/opt/cray/hdf5-parallel/1.8.14/INTEL/14.0/lib/pkgconfig:/opt/cray/netcdf/4.3.3.1/INTEL/14.0/lib/pkgconfig:/opt/cray/hdf5/1.8.14/INTEL/14.0/lib/pkgconfig:/opt/cray/netcdf-hdf5parallel/4.3.3.1/INTEL/14.0/lib/pkgconfig', 'PE_LIBSCI_DEFAULT_VOLATILE_PRGENV': 'CRAY GNU INTEL PGI', 'PE_MPICH_DEFAULT_GENCOMPS_PGI': '153', 'PYTHONPATH': '/lus/snx11141/spark/spark-1.5.0/python:/opt/cray/sdb/1.0-1.0502.58450.3.27.ari/lib64/py', 'LESS': '-M -I', 'PE_TPSL_DEFAULT_GENCOMPILERS_GNU_interlagos': '5.1 4.9', 'PE_LIBSCI_GENCOMPILERS_GNU_x86_64': '5.1 4.9', 'PE_TPSL_64_DEFAULT_GENCOMPILERS_CRAY_x86_64': '8.3', 'PE_LIBSCI_ACC_DEFAULT_GENCOMPS_CRAY_x86_64': '83', 'CRAYPE_NETWORK_TARGET': 'aries', 'USERMODULES': '/opt/modules/3.2.10.4/init/.usermodules:acml:alps:apprentice:apprentice2:atp:blcr:cce:chapel:cray-ccdb:cray-fftw:cray-ga:cray-hdf5:cray-hdf5-parallel:cray-lgdb:cray-libsci:cray-libsci_acc:cray-mpich:cray-mpich2:cray-mpich-compat:cray-netcdf:cray-netcdf-hdf5parallel:cray-parallel-netcdf:craypat:craype:cray-petsc:cray-petsc-complex:craypkg-gen:cray-shmem:cray-snplauncher:cray-tpsl:cray-trilinos:cudatoolkit:ddt:fftw:ga:gcc:hdf5:hdf5-parallel:intel:iobuf:java:lgdb:libfast:libsci_acc:mpich1:netcdf:netcdf-hdf5parallel:netcdf-nofsync:netcdf-nofsync-hdf5parallel:ntk:onesided:papi:parallel-netcdf:pathscale:perftools:perftools-lite:petsc:petsc-complex:pgi:pmi:PrgEnv-cray:PrgEnv-gnu:PrgEnv-intel:PrgEnv-pathscale:PrgEnv-pgi:stat:totalview:tpsl:trilinos:xt-asyncpe:xt-craypat:xt-lgdb:xt-libsci:xt-mpich2:xt-mpt:xt-papi:xt-shmem:xt-totalview:/etc/opt/cray/modules/site_usermodules', 'XKEYSYMDB': '/usr/share/X11/XKeysymDB', 'CRAY_CPU_TARGET': 'haswell', 'PE_MPICH_DEFAULT_GENCOMPILERS_PGI': '15.3', 'PE_PKGCONFIG_PRODUCTS': 'PE_MPICH:PE_LIBSCI', 'PE_LIBSCI_MODULE_NAME': 'cray-libsci/13.2.0', 'PE_FFTW_DEFAULT_REQUIRED_PRODUCTS': 'PE_MPICH', 'PELOCAL_PRGENV': 'true', 'PE_TPSL_DEFAULT_GENCOMPS_INTEL_x86_64': '140', 'TARGETMODULES': '/opt/modules/3.2.10.4/init/.targetmodules:craype-abudhabi:craype-abudhabi-cu:craype-accel-host:craype-accel-nvidia20:craype-accel-nvidia30:craype-accel-nvidia35:craype-barcelona:craype-broadwell:craype-haswell:craype-hugepages128K:craype-hugepages128M:craype-hugepages16M:craype-hugepages256M:craype-hugepages2M:craype-hugepages32M:craype-hugepages4M:craype-hugepages512K:craype-hugepages512M:craype-hugepages64M:craype-hugepages8M:craype-intel-knc:craype-interlagos:craype-interlagos-cu:craype-istanbul:craype-ivybridge:craype-mc12:craype-mc8:craype-mic-knl:craype-network-aries:craype-network-gemini:craype-network-infiniband:craype-network-none:craype-network-seastar:craype-sandybridge:craype-shanghai:craype-target-compute_node:craype-target-local_host:craype-target-native:craype-xeon:xtpe-barcelona:xtpe-interlagos:xtpe-interlagos-cu:xtpe-istanbul:xtpe-mc12:xtpe-mc8:xtpe-network-gemini:xtpe-network-seastar:xtpe-shanghai:xtpe-target-native:xtpe-xeon:/etc/opt/cray/modules/site_targetmodules', 'CRAY_PE_TARGET': 'x86-64', 'LINKER_AARCH64': '/cray/css/users/bhj/binutils/aarch64-binutils/bin/aarch64-linux-gnu-ld', 'CRAY_DMAPP_POST_LINK_OPTS': '-L/opt/cray/dmapp/7.0.1-1.0502.10246.8.47.ari/lib64', 'LS_COLORS': 'no=00:fi=00:di=01;34:ln=00;36:pi=40;33:so=01;35:do=01;35:bd=40;33;01:cd=40;33;01:or=41;33;01:ex=00;32:*.cmd=00;32:*.exe=01;32:*.com=01;32:*.bat=01;32:*.btm=01;32:*.dll=01;32:*.tar=00;31:*.tbz=00;31:*.tgz=00;31:*.rpm=00;31:*.deb=00;31:*.arj=00;31:*.taz=00;31:*.lzh=00;31:*.lzma=00;31:*.zip=00;31:*.zoo=00;31:*.z=00;31:*.Z=00;31:*.gz=00;31:*.bz2=00;31:*.tb2=00;31:*.tz2=00;31:*.tbz2=00;31:*.avi=01;35:*.bmp=01;35:*.fli=01;35:*.gif=01;35:*.jpg=01;35:*.jpeg=01;35:*.mng=01;35:*.mov=01;35:*.mpg=01;35:*.pcx=01;35:*.pbm=01;35:*.pgm=01;35:*.png=01;35:*.ppm=01;35:*.tga=01;35:*.tif=01;35:*.xbm=01;35:*.xpm=01;35:*.dl=01;35:*.gl=01;35:*.wmv=01;35:*.aiff=00;32:*.au=00;32:*.mid=00;32:*.mp3=00;32:*.ogg=00;32:*.voc=00;32:*.wav=00;32:', 'CRAYOS_VERSION': '5.2.56', 'PE_PETSC_DEFAULT_GENCOMPS_GNU_x86_64': '51 49', 'PE_TPSL_64_DEFAULT_GENCOMPILERS_PGI_x86_64': '15.3', 'JAVA_ROOT': '/usr/lib64/jvm/java', 'PE_TPSL_DEFAULT_GENCOMPS_CRAY_sandybridge': '83', 'ATP_POST_LINK_OPTS': '-Wl,-L/opt/cray/atp/1.8.3/libApp/ ', 'PE_MPICH_PKGCONFIG_LIBS': 'mpich', 'SHLVL': '1', 'PE_MPICH_DEFAULT_GENCOMPS_CRAY': '83', 'PE_MPICH_DEFAULT_DIR_CRAY_DEFAULT64': '64', 'PE_LIBSCI_PKGCONFIG_VARIABLES': 'PE_LIBSCI_OMP_REQUIRES_@openmp@', 'CRAY_XPMEM_POST_LINK_OPTS': '-L/opt/cray/xpmem/0.1-2.0502.57015.1.15.ari/lib64', 'PE_LIBSCI_ACC_DEFAULT_NV_SUFFIX_nvidia35': 'nv35', 'SYSROOT_DIR_AARCH64': '/cray/css/users/bhj/arm-opensuse-13.2-sysroot', 'XTPE_NETWORK_TARGET': 'aries', 'ENV': '/etc/bash.bashrc', 'PE_PETSC_DEFAULT_GENCOMPS_INTEL_x86_64': '140', 'LS_OPTIONS': '-N --color=none -T 0', 'MODULEPATH': '/opt/totalview-support/1.2.0.6/modulefiles:/opt/cray/craype/2.4.3.1/modulefiles:/opt/cray/ari/modulefiles:/opt/cray/modulefiles:/opt/modulefiles', 'PE_HDF5_DEFAULT_GENCOMPILERS_GNU': '5.1 4.9 4.8', 'PE_TPSL_DEFAULT_GENCOMPILERS_PGI_x86_64': '15.3', 'PE_TPSL_64_DEFAULT_GENCOMPS_INTEL_sandybridge': '140', 'PE_TPSL_64_DEFAULT_GENCOMPS_CRAY_x86_64': '83', 'OPENSSL_NO_DEFAULT_ZLIB': 'yes', 'PE_FFTW_DEFAULT_TARGET_interlagos': 'interlagos', 'PE_TRILINOS_DEFAULT_GENCOMPILERS_GNU_x86_64': '5.1 4.9', 'PE_TPSL_64_DEFAULT_GENCOMPILERS_GNU_interlagos': '5.1 4.9', 'CRAY_ALPS_INCLUDE_OPTS': '-I/opt/cray/alps/5.2.3-2.0502.9295.14.14.ari/include', 'PE_PETSC_DEFAULT_GENCOMPS_CRAY_sandybridge': '83', 'FTN_X86_64': '/opt/cray/cce/8.4.1.101/cftn/x86-64', 'PE_TPSL_64_DEFAULT_GENCOMPS_PGI_interlagos': '153', 'LANG': 'en_US.UTF-8', 'PE_TPSL_DEFAULT_GENCOMPILERS_INTEL_haswell': '14.0', 'ATP_HOME': '/opt/cray/atp/1.8.3', 'CRAY_UGNI_POST_LINK_OPTS': '-L/opt/cray/ugni/6.0-1.0502.10245.9.9.ari/lib64', 'SHMEM_ABORT_ON_ERROR': '1', 'PKG_CONFIG_PATH_DEFAULT': '/opt/cray/papi/5.4.1.2/lib64/pkgconfig', 'LESSOPEN': 'lessopen.sh %s', 'PE_PARALLEL_NETCDF_DEFAULT_VOLATILE_PRGENV': 'GNU', 'PE_CXX_PKGCONFIG_LIBS': 'mpichcxx', 'SSH_TTY': '/dev/pts/15', 'PE_TPSL_DEFAULT_GENCOMPILERS_GNU_sandybridge': '5.1 4.9', 'PE_TPSL_64_DEFAULT_GENCOMPILERS_INTEL_haswell': '14.0', 'PE_TPSL_DEFAULT_GENCOMPILERS_CRAY_x86_64': '8.3', 'PE_TRILINOS_DEFAULT_GENCOMPS_GNU_x86_64': '51 49', 'PE_PARALLEL_NETCDF_DEFAULT_FIXED_PRGENV': 'CRAY PGI INTEL', 'PE_MPICH_GENCOMPILERS_GNU': '5.1 4.9', 'SPARK_HOME': '/lus/snx11141/spark/spark-1.5.0', 'PE_TPSL_DEFAULT_GENCOMPS_GNU_x86_64': '51 49', 'SSH_CLIENT': '172.31.20.160 53268 22', 'LOGNAME': 'jsparks', 'PE_MPICH_DEFAULT_VOLATILE_PKGCONFIG_PATH': '/opt/cray/mpt/7.2.5/gni/mpich2-@PRGENV@@PE_MPICH_DEFAULT_DIR_DEFAULT64@/@PE_MPICH_DEFAULT_GENCOMPS@/lib/pkgconfig', 'PATH': '/home/users/jsparks/anaconda/envs/dato-env/bin:/lus/snx11141/jsparks/apache-maven-3.2.3/bin:/lus/snx11141/jsparks/jdk1.7.0_71/bin:/lus/snx11141/jsparks/apache-maven-3.2.3/bin:/lus/snx11141/jsparks/jdk1.7.0_71/bin/lus/snx11141/jsparks/apache-ant-1.9.4/bin:/opt/cray/mpt/7.2.5/gni/bin:/opt/torque/4.2.8/sbin:/opt/torque/4.2.8/bin:/opt/moab/7.2.8/bin:/opt/moab/7.2.8/sbin:/opt/cray/rca/1.0.0-2.0502.57212.2.56.ari/bin:/opt/cray/pmi/5.0.9-1.0000.10911.0.0.ari/bin:/opt/toolworks/totalview.8.15.7-6/bin:/opt/totalview-support/1.2.0.6/bin:/opt/cray/cce/8.4.1.101/cray-binutils/x86_64-unknown-linux-gnu/bin:/opt/cray/cce/8.4.1.101/craylibs/x86-64/bin:/opt/cray/cce/8.4.1.101/cftn/bin:/opt/cray/cce/8.4.1.101/CC/bin:/opt/cray/craype/2.4.3.1/bin:/opt/cray/llm/default/bin:/opt/cray/llm/default/etc:/opt/cray/xpmem/0.1-2.0502.57015.1.15.ari/bin:/opt/cray/ugni/6.0-1.0502.10245.9.9.ari/bin:/opt/cray/udreg/2.3.2-1.0502.9889.2.20.ari/bin:/opt/cray/lustre-cray_ari_s/2.5_3.0.101_0.35.1_1.0502.8640.15.1-1.0502.18911.12.4/sbin:/opt/cray/lustre-cray_ari_s/2.5_3.0.101_0.35.1_1.0502.8640.15.1-1.0502.18911.12.4/bin:/opt/cray/alps/5.2.3-2.0502.9295.14.14.ari/sbin:/opt/cray/alps/5.2.3-2.0502.9295.14.14.ari/bin:/opt/cray/sdb/1.0-1.0502.58450.3.27.ari/bin:/opt/cray/nodestat/2.2-1.0502.58998.2.7.ari/bin:/opt/modules/3.2.10.4/bin:/home/users/jsparks/bin:/usr/local/bin:/usr/bin:/bin:/usr/bin/X11:/usr/X11R6/bin:/usr/games:/usr/lib/mit/bin:/usr/lib/mit/sbin:.:/usr/lib/qt3/bin:/opt/cray/bin', 'PE_PETSC_DEFAULT_GENCOMPS_INTEL_sandybridge': '140', 'PE_PETSC_DEFAULT_GENCOMPS_CRAY_interlagos': '83', 'PE_TPSL_64_DEFAULT_GENCOMPS_INTEL_haswell': '140', 'PE_HDF5_PARALLEL_DEFAULT_REQUIRED_PRODUCTS': 'PE_MPICH', 'CRAY_PRE_COMPILE_OPTS': '-hnetwork=aries', 'INFODIR': '/usr/local/info:/usr/share/info:/usr/info', 'MPICH_DIR': '/opt/cray/mpt/7.2.5/gni/mpich2-cray/8.3', 'PE_TPSL_DEFAULT_GENCOMPS_GNU_sandybridge': '51 49', 'PE_TPSL_64_DEFAULT_GENCOMPILERS_INTEL_interlagos': '14.0', 'PE_TRILINOS_DEFAULT_VOLATILE_PRGENV': 'CRAY GNU INTEL', 'PE_MPICH_FIXED_PRGENV': 'INTEL', 'PKGCONFIG_ENABLED': '1', 'PE_LIBSCI_GENCOMPS_GNU_x86_64': '51 49', 'PE_SMA_DEFAULT_PKGCONFIG_VARIABLES': 'PE_SMA_COMPFLAG_@prgenv@', 'PE_PKGCONFIG_LIBS': 'mpich:AtpSigHandler:cray-rca:libsci_mpi:libsci', 'PE_TRILINOS_DEFAULT_GENCOMPILERS_CRAY_x86_64': '8.3', 'PE_NETCDF_HDF5PARALLEL_DEFAULT_GENCOMPILERS_GNU': '5.1 4.9 4.8', 'XCURSOR_THEME': 'crystalwhite', 'CRAYPE_DIR': '/opt/cray/craype/2.4.3.1', 'XDG_DATA_DIRS': '/usr/share:/etc/opt/kde3/share:/opt/kde3/share', 'PE_LIBSCI_ACC_DEFAULT_GENCOMPILERS_CRAY_x86_64': '8.3', 'PE_MPICH_TARGET_VAR_nvidia35': '-lcudart', 'CRAY_MPICH2_BASEDIR': '/opt/cray/mpt/7.2.5/gni', 'CRAY_PMI_INCLUDE_OPTS': '-I/opt/cray/pmi/5.0.9-1.0000.10911.0.0.ari/include', 'MANPATH': '/opt/cray/mpt/7.2.5/gni/man/mpich2:/opt/torque/4.2.8/share/man:/opt/moab/7.2.8/share/man/:/opt/cray/atp/1.8.3/man:/opt/cray/libsci/13.2.0/man:/opt/cray/man/csmlversion:/opt/toolworks/totalview.8.15.7-6/man:/opt/cray/cce/8.4.1.101/man:/opt/cray/cce/8.4.1.101/craylibs/man:/opt/cray/cce/8.4.1.101/CC/man:/opt/cray/cce/8.4.1.101/cftn/man:/opt/cray/craype/2.4.3.1/man:/opt/cray/llm/default/man:/opt/cray/lustre-cray_ari_s/2.5_3.0.101_0.35.1_1.0502.8640.15.1-1.0502.18911.12.4/man:/opt/cray/alps/5.2.3-2.0502.9295.14.14.ari/man:/opt/modules/3.2.10.4/share/man:/usr/local/man:/usr/share/man:/opt/cray/share/man:/opt/cray/man', 'PE_TPSL_DEFAULT_GENCOMPILERS_GNU_x86_64': '5.1 4.9', 'PROFILEREAD': 'true', 'PE_PETSC_DEFAULT_GENCOMPS_GNU_sandybridge': '51 49', 'PE_LIBSCI_ACC_DEFAULT_VOLATILE_PKGCONFIG_PATH': '/opt/cray/libsci_acc/3.2.0/@PRGENV@/@PE_LIBSCI_ACC_DEFAULT_GENCOMPS@/@PE_LIBSCI_ACC_DEFAULT_TARGET@/lib/pkgconfig', 'PE_NETCDF_HDF5PARALLEL_DEFAULT_REQUIRED_PRODUCTS': 'PE_HDF5_PARALLEL:PE_MPICH', 'CRAY_BINUTILS_VERSION': '/opt/cray/cce/8.4.1.101', 'PE_TPSL_64_DEFAULT_GENCOMPS_GNU_interlagos': '51 49', 'PE_PETSC_DEFAULT_GENCOMPILERS_GNU_interlagos': '5.1 4.9', 'PE_PETSC_DEFAULT_GENCOMPILERS_CRAY_haswell': '8.3', 'HOSTNAME': 'clogin75', 'PE_FFTW_DEFAULT_TARGET_sandybridge': 'sandybridge', 'PE_TPSL_DEFAULT_GENCOMPS_INTEL_sandybridge': '140', 'MACHTYPE': 'x86_64-suse-linux', 'PE_NETCDF_HDF5PARALLEL_DEFAULT_FIXED_PRGENV': 'CRAY PGI INTEL', 'MINICOM': '-c on', 'PE_TPSL_64_DEFAULT_REQUIRED_PRODUCTS': 'PE_MPICH:PE_LIBSCI', 'CVS_RSH': 'ssh', 'PE_PETSC_DEFAULT_GENCOMPS_PGI_x86_64': '153', 'PE_TPSL_64_DEFAULT_GENCOMPS_GNU_haswell': '51 49', 'PE_SMA_DEFAULT_DIR_CRAY_DEFAULT64': '64', 'LIBRARYMODULES': '/opt/modules/3.2.10.4/init/.librarymodules:acml:alps:cray-dwarf:cray-fftw:cray-ga:cray-hdf5:cray-hdf5-parallel:cray-libsci:cray-libsci_acc:cray-mpich:cray-mpich2:cray-mpich-abi:cray-netcdf:cray-netcdf-hdf5parallel:cray-parallel-netcdf:cray-petsc:cray-petsc-complex:cray-shmem:cray-tpsl:cray-trilinos:cudatoolkit:fftw:ga:hdf5:hdf5-parallel:iobuf:libfast:netcdf:netcdf-hdf5parallel:ntk:onesided:papi:petsc:petsc-complex:pmi:tpsl:trilinos:xt-libsci:xt-mpich2:xt-mpt:xt-papi:/etc/opt/cray/modules/site_librarymodules', 'PE_MPICH_DEFAULT_DIR_PGI_DEFAULT64': '64', 'MODULESHOME': '/opt/modules/3.2.10.4', 'CRAY_PRGENVCRAY': 'loaded', 'PE_LIBSCI_DEFAULT_GENCOMPILERS_CRAY_x86_64': '8.3', 'PE_TPSL_DEFAULT_GENCOMPS_CRAY_haswell': '83', 'PE_PETSC_DEFAULT_GENCOMPS_CRAY_haswell': '83', 'PE_MPICH_NV_LIBS_nvidia35': '-lcudart', 'PE_HDF5_PARALLEL_DEFAULT_VOLATILE_PRGENV': 'GNU', 'PE_TPSL_64_DEFAULT_GENCOMPS_PGI_x86_64': '153', 'XDG_CONFIG_DIRS': '/etc/xdg', 'PE_TPSL_DEFAULT_GENCOMPILERS_CRAY_haswell': '8.3', 'PE_NETCDF_DEFAULT_GENCOMPS_GNU': '51 49 48', 'PE_TPSL_64_DEFAULT_GENCOMPILERS_GNU_haswell': '5.1 4.9', 'PE_LIBSCI_ACC_DEFAULT_NV_SUFFIX_nvidia20': 'nv20', 'PAGER': 'cat', 'PE_GA_DEFAULT_GENCOMPS_GNU': '51 49', 'CRAY_PMI_POST_LINK_OPTS': '-L/opt/cray/pmi/5.0.9-1.0000.10911.0.0.ari/lib64', 'ATP_MRNET_COMM_PATH': '/opt/cray/atp/1.8.3/libexec/atp_mrnet_commnode_wrapper', 'CRAY_MPICH2_VER': '7.2.5', 'LM_LICENSE_FILE': '1714@cflls01:1714@cflls02:1714@cflls03', 'PE_LIBSCI_GENCOMPILERS_INTEL_x86_64': '14.0', 'G_BROKEN_FILENAMES': '1', 'CONDA_DEFAULT_ENV': 'dato-env', 'CRAY_CXX_IPA_LIBS_AARCH64': '/opt/cray/cce/8.4.1.101/CC/x86-64/lib/aarch64/libcray-c++-rts.a', 'PE_TPSL_DEFAULT_GENCOMPS_INTEL_interlagos': '140', 'PE_TPSL_64_DEFAULT_GENCOMPILERS_GNU_sandybridge': '5.1 4.9', 'PE_MPICH_CXX_PKGCONFIG_LIBS': 'mpichcxx', 'G_FILENAME_ENCODING': '@locale,UTF-8,ISO-8859-15,CP1252', 'PE_LIBSCI_VOLATILE_PRGENV': 'CRAY GNU INTEL PGI', 'FROM_HEADER': '', 'LESSCLOSE': 'lessclose.sh %s %s', 'PE_MPICH_VOLATILE_PKGCONFIG_PATH': '/opt/cray/mpt/7.2.5/gni/mpich2-@PRGENV@@PE_MPICH_DIR_DEFAULT64@/@PE_MPICH_GENCOMPS@/lib/pkgconfig', 'CRAY_ALPS_POST_LINK_OPTS': '-L/opt/cray/alps/5.2.3-2.0502.9295.14.14.ari/lib64', 'PE_LIBSCI_DEFAULT_GENCOMPS_PGI_x86_64': '153', 'PE_TPSL_64_DEFAULT_GENCOMPILERS_CRAY_interlagos': '8.3', 'PE_MPICH_DEFAULT_GENCOMPILERS_CRAY': '8.3', 'MORE': '-sl', 'PE_PETSC_DEFAULT_GENCOMPILERS_CRAY_interlagos': '8.3', 'PE_GA_DEFAULT_VOLATILE_PKGCONFIG_PATH': '/opt/cray/ga/5.3.0.3/@PRGENV@/@PE_GA_DEFAULT_GENCOMPS@/lib/pkgconfig', 'HOSTTYPE': 'x86_64', 'CRAYPE_VERSION': '2.4.3.1', 'CXX_INCLUDE_PATH_AARCH64': '/cray/css/users/bhj/arm-4.8.1-c++-include', 'TERM': 'xterm-color', 'PE_PETSC_DEFAULT_GENCOMPILERS_INTEL_sandybridge': '14.0', 'PE_LIBSCI_ACC_DEFAULT_REQUIRED_PRODUCTS': 'PE_MPICH:PE_LIBSCI', 'CRAY_MPICH2_DIR': '/opt/cray/mpt/7.2.5/gni/mpich2-cray/8.3', 'PE_TPSL_DEFAULT_REQUIRED_PRODUCTS': 'PE_MPICH:PE_LIBSCI', 'CRAY_GNI_HEADERS_INCLUDE_OPTS': '-I/opt/cray/gni-headers/4.0-1.0502.10317.9.2.ari/include', 'PE_CRAY_DEFAULT_FIXED_PKGCONFIG_PATH': '/opt/cray/parallel-netcdf/1.6.1/CRAY/8.3/lib/pkgconfig:/opt/cray/ga/5.3.0.3/CRAY/8.3/lib/pkgconfig:/opt/cray/hdf5-parallel/1.8.14/CRAY/8.3/lib/pkgconfig:/opt/cray/netcdf/4.3.3.1/CRAY/8.3/lib/pkgconfig:/opt/cray/hdf5/1.8.14/CRAY/8.3/lib/pkgconfig:/opt/cray/netcdf-hdf5parallel/4.3.3.1/CRAY/8.3/lib/pkgconfig', 'PE_FFTW_DEFAULT_TARGET_x86_64': 'x86_64', 'PE_PETSC_DEFAULT_GENCOMPILERS_INTEL_haswell': '14.0', 'LESSKEY': '/etc/lesskey.bin', 'TV_EXTRA_OPTIONS': '-use_interface ipogif0', 'PYTHONSTARTUP': '/etc/pythonstart', 'PE_LIBSCI_GENCOMPILERS_PGI_x86_64': '15.3', 'PWD': '/home/users/jsparks', 'PE_TPSL_64_DEFAULT_GENCOMPILERS_CRAY_haswell': '8.3', 'XTOS_VERSION': '5.2.56', 'PE_SMA_DEFAULT_COMPFLAG_GNU': '-fcray-pointer', 'RCLOCAL_BASEOPTS': 'true', 'PE_LIBSCI_ACC_DEFAULT_GENCOMPILERS_GNU_x86_64': '4.8', 'CRAY_BINUTILS_ROOT': '/opt/cray/cce/8.4.1.101/cray-binutils', 'PE_LIBSCI_DEFAULT_VOLATILE_PKGCONFIG_PATH': '/opt/cray/libsci/13.2.0/@PRGENV@/@PE_LIBSCI_DEFAULT_GENCOMPS@/@PE_LIBSCI_DEFAULT_TARGET@/lib/pkgconfig', 'PE_FFTW_DEFAULT_TARGET_haswell': 'haswell', 'PE_LIBSCI_PKGCONFIG_LIBS': 'libsci_mpi:libsci', 'TOTALVIEW_SUPPORT_LIB': '/opt/totalview-support/1.2.0.6/lib', 'SHELL': '/bin/bash', 'PE_LIBSCI_GENCOMPS_CRAY_x86_64': '83', 'CRAY_MPICH2_ROOTDIR': '/opt/cray/mpt/7.2.5', 'MAVEN_OPTS': '-Xmx2g -XX:MaxPermSize=512M -XX:ReservedCodeCacheSize=512m', 'PE_PETSC_DEFAULT_GENCOMPILERS_PGI_interlagos': '15.3', 'PE_PETSC_DEFAULT_VOLATILE_PRGENV': 'CRAY CRAY64 GNU GNU64 INTEL INTEL64 PGI PGI64', 'LESS_ADVANCED_PREPROCESSOR': 'no', 'PE_HDF5_DEFAULT_VOLATILE_PRGENV': 'GNU', 'PE_TPSL_DEFAULT_GENCOMPILERS_CRAY_sandybridge': '8.3', 'PRGENVMODULES': '/opt/modules/3.2.10.4/init/.prgenvmodules:PrgEnv-cray:PrgEnv-gnu:PrgEnv-intel:PrgEnv-pathscale:PrgEnv-pgi', 'PE_TPSL_DEFAULT_GENCOMPILERS_CRAY_interlagos': '8.3', 'DMAPP_ABORT_ON_ERROR': '1', 'PE_NETCDF_DEFAULT_VOLATILE_PRGENV': 'GNU', 'PE_TPSL_64_DEFAULT_GENCOMPILERS_CRAY_sandybridge': '8.3', 'PE_PETSC_DEFAULT_GENCOMPILERS_GNU_sandybridge': '5.1 4.9', 'MPICH_ABORT_ON_ERROR': '1', 'PE_ENV': 'CRAY', 'PE_PRODUCT_LIST': 'CRAYPE_HASWELL:CRAY_RCA:CRAY_PMI:CRAY_LIBSCI:TOTALVIEW:TOTALVIEW-SUPPORT:CRAYPE:CRAY:CRAY_LLM:CRAY_XPMEM:CRAY_DMAPP:CRAY_UGNI:CRAY_UDREG:CRAY_ALPS', 'PE_MPICH_VOLATILE_PRGENV': 'CRAY GNU PGI', 'PE_PETSC_DEFAULT_GENCOMPS_CRAY_x86_64': '83', 'PE_PETSC_DEFAULT_GENCOMPS_GNU_interlagos': '51 49', 'PE_PETSC_DEFAULT_GENCOMPS_GNU_haswell': '51 49', 'SDK_HOME': '/usr/lib64/jvm/java', 'ASSEMBLER_X86_64': '/opt/cray/cce/8.4.1.101/cray-binutils/x86_64-unknown-linux-gnu/bin/as', 'GSK_USE_GSOCKETS': '0', 'GCC_X86_64': '/opt/gcc/4.8.1/snos', 'SSH_SENDS_LOCALE': 'yes', 'PE_MPICH_GENCOMPILERS_CRAY': '8.3', 'PE_MPICH_GENCOMPS_CRAY': '83', 'CRAY_RCA_POST_LINK_OPTS': '-L/opt/cray/rca/1.0.0-2.0502.57212.2.56.ari/lib64 -lrca ', 'PE_MPICH_TARGET_VAR_nvidia20': '-lcudart', 'MAIL': '/var/mail/jsparks', 'SSH_CONNECTION': '172.31.20.160 53268 172.30.55.175 22', 'TOOLMODULES': '/opt/modules/3.2.10.4/init/.toolmodules:apprentice:apprentice2:atp:chapel:cray-lgdb:craypat:craypkg-gen:cray-snplauncher:ddt:gdb:iobuf:papi:perftools:perftools-lite:stat:totalview:xt-craypat:xt-lgdb:xt-papi:xt-totalview:/etc/opt/cray/modules/site_toolmodules', 'PE_LIBSCI_DEFAULT_GENCOMPILERS_GNU_x86_64': '5.1 4.9', 'PE_TPSL_DEFAULT_GENCOMPILERS_INTEL_interlagos': '14.0', 'PE_MPICH_DIR_CRAY_DEFAULT64': '64', 'PE_TPSL_DEFAULT_GENCOMPILERS_GNU_haswell': '5.1 4.9', 'HOME': '/home/users/jsparks', 'PE_LIBSCI_ACC_DEFAULT_PKGCONFIG_VARIABLES': 'PE_LIBSCI_ACC_DEFAULT_NV_SUFFIX_@accelerator@', 'PE_LIBSCI_OMP_REQUIRES_openmp': '_mp', 'FORTRAN_SYSTEM_MODULE_NAMES': 'ftn_lib_definitions', 'PE_PARALLEL_NETCDF_DEFAULT_GENCOMPS_GNU': '51 49 48', 'CRAY_UGNI_INCLUDE_OPTS': '-I/opt/cray/ugni/6.0-1.0502.10245.9.9.ari/include', 'PE_PETSC_DEFAULT_GENCOMPS_INTEL_interlagos': '140', 'PE_PKGCONFIG_DEFAULT_PRODUCTS': 'PE_PARALLEL_NETCDF:PE_MPICH:PE_GA:PE_FFTW:PE_HDF5_PARALLEL:PE_NETCDF:PE_LIBSCI:PE_HDF5:PE_TPSL_64:PE_TPSL:PE_PETSC:PE_TRILINOS:PE_NETCDF_HDF5PARALLEL:PE_LIBSCI_ACC', 'PE_PAPI_DEFAULT_TARGET_VAR_nvidia35': ',-lcupti,-lcudart,-lcuda', 'CRAY_CXX_IPA_LIBS': '/opt/cray/cce/8.4.1.101/CC/x86-64/lib/x86-64/libcray-c++-rts.a', 'PKG_CONFIG_PATH': '/opt/cray/rca/1.0.0-2.0502.57212.2.56.ari/lib64/pkgconfig:/opt/cray/pmi/5.0.9-1.0000.10911.0.0.ari/lib64/pkgconfig:/opt/cray/craype/2.4.3.1/pkg-config:/opt/cray/iobuf/2.0.6/lib/pkgconfig:/opt/cray/xpmem/0.1-2.0502.57015.1.15.ari/lib64/pkgconfig:/opt/cray/dmapp/7.0.1-1.0502.10246.8.47.ari/lib64/pkgconfig:/opt/cray/gni-headers/4.0-1.0502.10317.9.2.ari/lib64/pkgconfig:/opt/cray/ugni/6.0-1.0502.10245.9.9.ari/lib64/pkgconfig:/opt/cray/udreg/2.3.2-1.0502.9889.2.20.ari/lib64/pkgconfig:/opt/cray/alps/5.2.3-2.0502.9295.14.14.ari/lib64/pkgconfig:/opt/cray/atp/1.8.3/lib/pkgconfig', 'XNLSPATH': '/usr/share/X11/nls', '_': '/home/users/jsparks/anaconda/envs/dato-env/bin/ipython', 'CC_X86_64': '/opt/cray/cce/8.4.1.101/CC/x86-64', 'GCC_AARCH64': '/cray/css/users/bhj/aarch64-gcc-4.8.1/aarch64-unknowun-linux-gnu/4.8.1', 'WINDOWMANAGER': '', 'CRAY_LLM_DIR': '/opt/cray/llm/default', 'PE_TPSL_DEFAULT_GENCOMPS_GNU_haswell': '51 49', 'PE_TRILINOS_DEFAULT_REQUIRED_PRODUCTS': 'PE_MPICH:PE_HDF5_PARALLEL:PE_NETCDF_HDF5PARALLEL:PE_LIBSCI:PE_TPSL', 'CRAY_DMAPP_INCLUDE_OPTS': '-I/opt/cray/dmapp/7.0.1-1.0502.10246.8.47.ari/include -I/opt/cray/gni-headers/4.0-1.0502.10317.9.2.ari/include ', 'PE_TPSL_64_DEFAULT_GENCOMPS_INTEL_interlagos': '140', 'PE_TPSL_64_DEFAULT_GENCOMPILERS_INTEL_sandybridge': '14.0', 'QT_SYSTEM_DIR': '/usr/share/desktop-data', 'CRAY_BINUTILS_BIN_AARCH64': '/cray/css/users/bhj/binutils/aarch64-binutils/aarch64-unknowun-linux-gnu/bin', 'PE_MPICH_NV_LIBS_nvidia20': '-lcudart', 'PE_NETCDF_DEFAULT_FIXED_PRGENV': 'CRAY PGI INTEL', 'CRAY_CC_VERSION': '8.4.1.101', 'PE_MPICH_GENCOMPILERS_PGI': '15.3', 'PE_INTEL_FIXED_PKGCONFIG_PATH': '/opt/cray/mpt/7.2.5/gni/mpich2-intel/14.0/lib/pkgconfig', 'PE_TPSL_DEFAULT_GENCOMPS_INTEL_haswell': '140', 'PE_TPSL_DEFAULT_GENCOMPS_GNU_interlagos': '51 49', 'PE_LIBSCI_DEFAULT_REQUIRED_PRODUCTS': 'PE_MPICH', 'OSTYPE': 'linux', 'PE_NETCDF_DEFAULT_REQUIRED_PRODUCTS': 'PE_HDF5', 'PE_NETCDF_HDF5PARALLEL_DEFAULT_GENCOMPS_GNU': '51 49 48', 'CRAY_BINUTILS_BIN': '/opt/cray/cce/8.4.1.101/cray-binutils/x86_64-unknown-linux-gnu/bin', 'PE_TRILINOS_DEFAULT_GENCOMPS_INTEL_x86_64': '140', 'PE_TPSL_DEFAULT_GENCOMPS_PGI_interlagos': '153', 'PE_PETSC_DEFAULT_GENCOMPILERS_INTEL_interlagos': '14.0', 'NUMPY_ALTERNATE_MALLOC_PREFIX': 'my_', 'NLSPATH': '/opt/cray/cce/8.4.1.101/CC/x86-64/nls/En/%N.cat:/opt/cray/cce/8.4.1.101/craylibs/x86-64/nls/En/%N.cat:/opt/cray/cce/8.4.1.101/cftn/x86-64/nls/En/%N.cat', 'INCLUDE_PATH_AARCH64': '/opt/cray/cce/8.4.1.101/craylibs/aarch64/include', 'PE_MPICH_GENCOMPS_GNU': '51 49', 'CRAY_RCA_INCLUDE_OPTS': '-I/opt/cray/rca/1.0.0-2.0502.57212.2.56.ari/include -I/opt/cray/krca/1.0.0-2.0502.57202.2.45.ari/include -I/opt/cray-hss-devel/7.2.0/include ', 'PE_PETSC_DEFAULT_GENCOMPILERS_INTEL_x86_64': '14.0', 'PE_TRILINOS_DEFAULT_GENCOMPS_CRAY_x86_64': '83', 'PE_PETSC_DEFAULT_GENCOMPILERS_PGI_x86_64': '15.3', 'PE_TPSL_64_DEFAULT_GENCOMPS_CRAY_haswell': '83', 'CRAY_LIBSCI_PREFIX_DIR': '/opt/cray/libsci/13.2.0/CRAY/8.3/x86_64', 'PE_PETSC_DEFAULT_GENCOMPS_PGI_interlagos': '153', 'PE_PARALLEL_NETCDF_DEFAULT_GENCOMPILERS_GNU': '5.1 4.9 4.8', 'PE_TPSL_64_DEFAULT_VOLATILE_PKGCONFIG_PATH': '/opt/cray/tpsl/1.5.2/@PRGENV@64/@PE_TPSL_64_DEFAULT_GENCOMPS@/@PE_TPSL_64_DEFAULT_TARGET@/lib/pkgconfig', 'PE_TPSL_DEFAULT_GENCOMPILERS_INTEL_sandybridge': '14.0', 'PE_MPICH_DEFAULT_VOLATILE_PRGENV': 'CRAY GNU PGI', 'PE_TPSL_64_DEFAULT_GENCOMPILERS_PGI_interlagos': '15.3', 'PE_MPICH_MULTITHREADED_LIBS_multithreaded': '_mt', 'PE_TPSL_64_DEFAULT_VOLATILE_PRGENV': 'CRAY CRAY64 GNU GNU64 INTEL INTEL64 PGI PGI64', 'PE_LIBSCI_DEFAULT_GENCOMPILERS_INTEL_x86_64': '14.0', 'PE_LIBSCI_ACC_DEFAULT_GENCOMPS_GNU_x86_64': '48', 'PE_MPICH_FORTRAN_PKGCONFIG_LIBS': 'mpichf90', 'PE_NETCDF_DEFAULT_GENCOMPILERS_GNU': '5.1 4.9 4.8', 'PE_LIBSCI_DEFAULT_GENCOMPS_CRAY_x86_64': '83', 'CRAY_SITE_LIST_DIR': '/etc/opt/cray/modules', 'RCLOCAL_PRGENV': 'true', 'CRAYLIBS_X86_64': '/opt/cray/cce/8.4.1.101/craylibs/x86-64', 'PE_PETSC_DEFAULT_GENCOMPILERS_GNU_x86_64': '5.1 4.9', 'ANT_HOME': '/lus/snx11141/jsparks/apache-ant-1.9.4', 'PE_TPSL_64_DEFAULT_GENCOMPS_GNU_x86_64': '51 49', 'PE_LIBSCI_DEFAULT_PKGCONFIG_VARIABLES': 'PE_LIBSCI_DEFAULT_OMP_REQUIRES_@openmp@', 'CRAY_UDREG_POST_LINK_OPTS': '-L/opt/cray/udreg/2.3.2-1.0502.9889.2.20.ari/lib64'}\n"
     ]
    },
    {
     "ename": "ImportError",
     "evalue": "No module named py4j.java_gateway",
     "output_type": "error",
     "traceback": [
      "\u001b[1;31m---------------------------------------------------------------------------\u001b[0m",
      "\u001b[1;31mImportError\u001b[0m                               Traceback (most recent call last)",
      "\u001b[1;32m<ipython-input-1-0dc1b3dd479d>\u001b[0m in \u001b[0;36m<module>\u001b[1;34m()\u001b[0m\n\u001b[0;32m     11\u001b[0m \u001b[1;32mprint\u001b[0m \u001b[0mos\u001b[0m\u001b[1;33m.\u001b[0m\u001b[0menviron\u001b[0m\u001b[1;33m\u001b[0m\u001b[0m\n\u001b[0;32m     12\u001b[0m \u001b[1;31m# try the import of pyspark\u001b[0m\u001b[1;33m\u001b[0m\u001b[1;33m\u001b[0m\u001b[0m\n\u001b[1;32m---> 13\u001b[1;33m \u001b[1;32mfrom\u001b[0m \u001b[0mpyspark\u001b[0m \u001b[1;32mimport\u001b[0m \u001b[0mSparkContext\u001b[0m\u001b[1;33m\u001b[0m\u001b[0m\n\u001b[0m\u001b[0;32m     14\u001b[0m \u001b[1;32mimport\u001b[0m \u001b[0mrequests\u001b[0m\u001b[1;33m\u001b[0m\u001b[0m\n",
      "\u001b[1;32m/lus/snx11141/spark/spark-1.5.0/python/pyspark/__init__.py\u001b[0m in \u001b[0;36m<module>\u001b[1;34m()\u001b[0m\n\u001b[0;32m     39\u001b[0m \u001b[1;33m\u001b[0m\u001b[0m\n\u001b[0;32m     40\u001b[0m \u001b[1;32mfrom\u001b[0m \u001b[0mpyspark\u001b[0m\u001b[1;33m.\u001b[0m\u001b[0mconf\u001b[0m \u001b[1;32mimport\u001b[0m \u001b[0mSparkConf\u001b[0m\u001b[1;33m\u001b[0m\u001b[0m\n\u001b[1;32m---> 41\u001b[1;33m \u001b[1;32mfrom\u001b[0m \u001b[0mpyspark\u001b[0m\u001b[1;33m.\u001b[0m\u001b[0mcontext\u001b[0m \u001b[1;32mimport\u001b[0m \u001b[0mSparkContext\u001b[0m\u001b[1;33m\u001b[0m\u001b[0m\n\u001b[0m\u001b[0;32m     42\u001b[0m \u001b[1;32mfrom\u001b[0m \u001b[0mpyspark\u001b[0m\u001b[1;33m.\u001b[0m\u001b[0mrdd\u001b[0m \u001b[1;32mimport\u001b[0m \u001b[0mRDD\u001b[0m\u001b[1;33m\u001b[0m\u001b[0m\n\u001b[0;32m     43\u001b[0m \u001b[1;32mfrom\u001b[0m \u001b[0mpyspark\u001b[0m\u001b[1;33m.\u001b[0m\u001b[0mfiles\u001b[0m \u001b[1;32mimport\u001b[0m \u001b[0mSparkFiles\u001b[0m\u001b[1;33m\u001b[0m\u001b[0m\n",
      "\u001b[1;32m/lus/snx11141/spark/spark-1.5.0/python/pyspark/context.py\u001b[0m in \u001b[0;36m<module>\u001b[1;34m()\u001b[0m\n\u001b[0;32m     29\u001b[0m \u001b[1;32mfrom\u001b[0m \u001b[0mpyspark\u001b[0m\u001b[1;33m.\u001b[0m\u001b[0mconf\u001b[0m \u001b[1;32mimport\u001b[0m \u001b[0mSparkConf\u001b[0m\u001b[1;33m\u001b[0m\u001b[0m\n\u001b[0;32m     30\u001b[0m \u001b[1;32mfrom\u001b[0m \u001b[0mpyspark\u001b[0m\u001b[1;33m.\u001b[0m\u001b[0mfiles\u001b[0m \u001b[1;32mimport\u001b[0m \u001b[0mSparkFiles\u001b[0m\u001b[1;33m\u001b[0m\u001b[0m\n\u001b[1;32m---> 31\u001b[1;33m \u001b[1;32mfrom\u001b[0m \u001b[0mpyspark\u001b[0m\u001b[1;33m.\u001b[0m\u001b[0mjava_gateway\u001b[0m \u001b[1;32mimport\u001b[0m \u001b[0mlaunch_gateway\u001b[0m\u001b[1;33m\u001b[0m\u001b[0m\n\u001b[0m\u001b[0;32m     32\u001b[0m \u001b[1;32mfrom\u001b[0m \u001b[0mpyspark\u001b[0m\u001b[1;33m.\u001b[0m\u001b[0mserializers\u001b[0m \u001b[1;32mimport\u001b[0m \u001b[0mPickleSerializer\u001b[0m\u001b[1;33m,\u001b[0m \u001b[0mBatchedSerializer\u001b[0m\u001b[1;33m,\u001b[0m \u001b[0mUTF8Deserializer\u001b[0m\u001b[1;33m,\u001b[0m\u001b[0;31m \u001b[0m\u001b[0;31m\\\u001b[0m\u001b[1;33m\u001b[0m\u001b[0m\n\u001b[0;32m     33\u001b[0m     \u001b[0mPairDeserializer\u001b[0m\u001b[1;33m,\u001b[0m \u001b[0mAutoBatchedSerializer\u001b[0m\u001b[1;33m,\u001b[0m \u001b[0mNoOpSerializer\u001b[0m\u001b[1;33m\u001b[0m\u001b[0m\n",
      "\u001b[1;32m/lus/snx11141/spark/spark-1.5.0/python/pyspark/java_gateway.py\u001b[0m in \u001b[0;36m<module>\u001b[1;34m()\u001b[0m\n\u001b[0;32m     29\u001b[0m     \u001b[0mxrange\u001b[0m \u001b[1;33m=\u001b[0m \u001b[0mrange\u001b[0m\u001b[1;33m\u001b[0m\u001b[0m\n\u001b[0;32m     30\u001b[0m \u001b[1;33m\u001b[0m\u001b[0m\n\u001b[1;32m---> 31\u001b[1;33m \u001b[1;32mfrom\u001b[0m \u001b[0mpy4j\u001b[0m\u001b[1;33m.\u001b[0m\u001b[0mjava_gateway\u001b[0m \u001b[1;32mimport\u001b[0m \u001b[0mjava_import\u001b[0m\u001b[1;33m,\u001b[0m \u001b[0mJavaGateway\u001b[0m\u001b[1;33m,\u001b[0m \u001b[0mGatewayClient\u001b[0m\u001b[1;33m\u001b[0m\u001b[0m\n\u001b[0m\u001b[0;32m     32\u001b[0m \u001b[1;32mfrom\u001b[0m \u001b[0mpy4j\u001b[0m\u001b[1;33m.\u001b[0m\u001b[0mjava_collections\u001b[0m \u001b[1;32mimport\u001b[0m \u001b[0mListConverter\u001b[0m\u001b[1;33m\u001b[0m\u001b[0m\n\u001b[0;32m     33\u001b[0m \u001b[1;33m\u001b[0m\u001b[0m\n",
      "\u001b[1;31mImportError\u001b[0m: No module named py4j.java_gateway"
     ]
    }
   ],
   "source": [
    "import graphlab as gl\n",
    "import sys\n",
    "# Set the path to load our spark python env\n",
    "sys.path.append('/lus/snx11141/spark/spark-1.5.0/python')\n",
    "\n",
    "import os\n",
    "os.environ['HADOOP_CONF_DIR'] = '/etc/hadoop/conf'\n",
    "os.environ['SPARK_HOME'] = '/lus/snx11141/spark/spark-1.5.0'\n",
    "os.environ['PYTHONPATH'] = '%s/python:%s' % (os.environ['SPARK_HOME'], os.environ.get('PYTHONPATH', ''))\n",
    "print sys.path\n",
    "print os.environ\n",
    "# try the import of pyspark\n",
    "from pyspark import SparkContext\n",
    "import requests"
   ]
  },
  {
   "cell_type": "code",
   "execution_count": null,
   "metadata": {
    "collapsed": false
   },
   "outputs": [],
   "source": [
    "# Set up the SparkContext object\n",
    "# this can be 'local' or 'yarn-client' in PySpark\n",
    "# Remember if using yarn-client then all the paths should be accessible\n",
    "# by all nodes in the cluster.\n",
    "sc = SparkContext('local')"
   ]
  },
  {
   "cell_type": "markdown",
   "metadata": {},
   "source": [
    "Now that we have the SparkContext setup, let's download the Wikipedia data as an RDD. For this notebook we will only use a subset of the data, but there is code below to use the full dataset (which is about ~5GB)."
   ]
  },
  {
   "cell_type": "markdown",
   "metadata": {},
   "source": [
    "#### Download the Wikipedia Data"
   ]
  },
  {
   "cell_type": "code",
   "execution_count": null,
   "metadata": {
    "collapsed": false
   },
   "outputs": [],
   "source": [
    "import requests\n",
    "\n",
    "def download_file(url, save_path):\n",
    "    local_filename = url.split('/')[-1]\n",
    "    r = requests.get(url, stream=True)\n",
    "    with open(os.path.join(save_path, local_filename), 'wb') as f:\n",
    "        for chunk in r.iter_content(chunk_size=1024): \n",
    "            if chunk: # filter out keep-alive new chunks\n",
    "                f.write(chunk)\n",
    "                f.flush()\n",
    "    return local_filename\n",
    "\n",
    "# File to download\n",
    "file_list = [16] \n",
    "\n",
    "# If you want to use this entire Wikipedia dataset, uncomment the following line.\n",
    "# This will download ~5GB of data split over 36 files.\n",
    "# file_list = range(37)\n",
    "\n",
    "# Download location for Wikipedia data\n",
    "save_path = '/tmp/wikipedia'\n",
    "\n",
    "# Actually download the files, if the location doesn't exist yet.\n",
    "if not os.path.exists(save_path):\n",
    "    os.mkdir(save_path)\n",
    "    for idx in file_list: \n",
    "        url = 'http://s3.amazonaws.com/dato-datasets/wikipedia/raw/w%d' % idx\n",
    "        print \"Downloading '%s', saving to: '%s'\" % (url, save_path)\n",
    "        download_file(url, save_path) # This will download 146MB of data."
   ]
  },
  {
   "cell_type": "code",
   "execution_count": null,
   "metadata": {
    "collapsed": false
   },
   "outputs": [],
   "source": [
    "rawRdd = sc.textFile('file:///%s/' % save_path).zipWithIndex()"
   ]
  },
  {
   "cell_type": "markdown",
   "metadata": {},
   "source": [
    "Now that the rdd is defined, let's see the first few lines to confirm it is structured the way we want."
   ]
  },
  {
   "cell_type": "code",
   "execution_count": null,
   "metadata": {
    "collapsed": false
   },
   "outputs": [],
   "source": [
    "rawRdd.take(1)"
   ]
  },
  {
   "cell_type": "markdown",
   "metadata": {},
   "source": [
    "This looks good, it has a document on each line, with a subsequent index value. Since we want to split documents by space, it is important to remove any extra spaces that exist. When examining the document closely we see there are extra spaces, so let's clean those up and split each document by space. Also, let's put the index for the document as the first entry, so we have an 'id' key and then the words."
   ]
  },
  {
   "cell_type": "code",
   "execution_count": null,
   "metadata": {
    "collapsed": false
   },
   "outputs": [],
   "source": [
    "# replace multiple spaces with a single space using re.sub, then trim whitespace and split on single space.\n",
    "import re\n",
    "splitRdd = rawRdd.map(lambda (a,b): (b, re.sub(\"[ ]+\", \" \", a).strip().split(\" \")))\n",
    "splitRdd.take(1)"
   ]
  },
  {
   "cell_type": "markdown",
   "metadata": {},
   "source": [
    "Now each document is a tuple of (index, list of words). Let's transform that into a list of (index, word) tuples instead. We will use flatMap for that."
   ]
  },
  {
   "cell_type": "code",
   "execution_count": null,
   "metadata": {
    "collapsed": false
   },
   "outputs": [],
   "source": [
    "zipRdd = splitRdd.flatMap(lambda (a,b): zip([a] * len(b),b))\n",
    "zipRdd.take(1)"
   ]
  },
  {
   "cell_type": "markdown",
   "metadata": {},
   "source": [
    "Great, now we have things formatted the way we want, let's start aggregating to generate word counts per document."
   ]
  },
  {
   "cell_type": "code",
   "execution_count": null,
   "metadata": {
    "collapsed": false
   },
   "outputs": [],
   "source": [
    "wordRdd = zipRdd.map(lambda composite_word: (composite_word, 1)).reduceByKey(lambda a, b: a + b)\n",
    "wordRdd.take(10)"
   ]
  },
  {
   "cell_type": "markdown",
   "metadata": {},
   "source": [
    "And finally, let's create a dictionary with word as the key and count as the value."
   ]
  },
  {
   "cell_type": "code",
   "execution_count": null,
   "metadata": {
    "collapsed": false
   },
   "outputs": [],
   "source": [
    "bagRdd = wordRdd.map(lambda (a,b):(a[0],(a[1],b))).groupByKey().map(lambda (a,b):(a,{word_count[0]:word_count[1] for word_count in b.data}))"
   ]
  },
  {
   "cell_type": "markdown",
   "metadata": {},
   "source": [
    "### Step 3: Ingest Spark RDD as SFrame"
   ]
  },
  {
   "cell_type": "markdown",
   "metadata": {},
   "source": [
    "Now that we have the raw Wikipedia text converted into a bag-of-words using Spark, it is easy to ingest that into GraphLab Create as an SFrame."
   ]
  },
  {
   "cell_type": "code",
   "execution_count": null,
   "metadata": {
    "collapsed": false
   },
   "outputs": [],
   "source": [
    "data = gl.SFrame.from_rdd(bagRdd)\n",
    "data = data.unpack('X1')\n",
    "data.rename({'X1.0':'id','X1.1':'bag_of_words'})"
   ]
  },
  {
   "cell_type": "code",
   "execution_count": null,
   "metadata": {
    "collapsed": false
   },
   "outputs": [],
   "source": [
    "gl.canvas.set_target('ipynb')\n",
    "data.show()"
   ]
  },
  {
   "cell_type": "markdown",
   "metadata": {},
   "source": [
    "Looking at the most frequent words in the bag of words, it is obvious that 'stop words' are most prevalent. Let's remove them with one line, using GraphLab Create."
   ]
  },
  {
   "cell_type": "code",
   "execution_count": null,
   "metadata": {
    "collapsed": false
   },
   "outputs": [],
   "source": [
    "# Trim out stopwords\n",
    "data['bag_of_words'] = data['bag_of_words'].dict_trim_by_keys(gl.text_analytics.stopwords(), exclude=True)\n",
    "data.show()"
   ]
  },
  {
   "cell_type": "markdown",
   "metadata": {},
   "source": [
    "Great, now the most frequent words are no longer stop words. We are ready to train a Topic Model on the data."
   ]
  },
  {
   "cell_type": "markdown",
   "metadata": {},
   "source": [
    "### Step 4: Learn Topic Model"
   ]
  },
  {
   "cell_type": "markdown",
   "metadata": {},
   "source": [
    "Once we have an SFrame, training a Topic Model is one line. We are saying we are looking for the model to learn five topics, and to train for ten iterations."
   ]
  },
  {
   "cell_type": "code",
   "execution_count": null,
   "metadata": {
    "collapsed": false
   },
   "outputs": [],
   "source": [
    "# If running on entire dataset, might want to increase num_topics and num_iterations\n",
    "model = gl.topic_model.create(data['bag_of_words'], num_topics=5, num_iterations=10)"
   ]
  },
  {
   "cell_type": "markdown",
   "metadata": {},
   "source": [
    "### Step 5: Explore the Topics"
   ]
  },
  {
   "cell_type": "markdown",
   "metadata": {},
   "source": [
    "First, let's get topic ids predicted from the model."
   ]
  },
  {
   "cell_type": "code",
   "execution_count": null,
   "metadata": {
    "collapsed": false
   },
   "outputs": [],
   "source": [
    "pred = model.predict(data['bag_of_words'])\n",
    "pred"
   ]
  },
  {
   "cell_type": "markdown",
   "metadata": {},
   "source": [
    "Well, that is just showing predicted topic_id. Instead, let's add a column with the topic_id we just predicted, and create that as our results SFrame."
   ]
  },
  {
   "cell_type": "code",
   "execution_count": null,
   "metadata": {
    "collapsed": false
   },
   "outputs": [],
   "source": [
    "results = gl.SFrame({'doc_id':data['id'], 'topic_id':pred, 'bag_of_words':data['bag_of_words']})\n",
    "results.swap_columns('doc_id', 'bag_of_words') # better SFrame formatting\n",
    "results.print_rows(max_column_width=60)"
   ]
  },
  {
   "cell_type": "markdown",
   "metadata": {},
   "source": [
    "Now let's see which topic ids appear most frequently in this set of Wikipedia data"
   ]
  },
  {
   "cell_type": "code",
   "execution_count": null,
   "metadata": {
    "collapsed": false
   },
   "outputs": [],
   "source": [
    "gl.canvas.set_target('ipynb')\n",
    "results['topic_id'].show('Categorical')"
   ]
  },
  {
   "cell_type": "markdown",
   "metadata": {},
   "source": [
    "Looking at this tells us that topic ids 3 and 2 are more common in this dataset. Let's find out what words are associated with those topics."
   ]
  },
  {
   "cell_type": "code",
   "execution_count": null,
   "metadata": {
    "collapsed": false
   },
   "outputs": [],
   "source": [
    "model.get_topics([3], output_type='topic_words').print_rows(max_column_width=100)"
   ]
  },
  {
   "cell_type": "code",
   "execution_count": null,
   "metadata": {
    "collapsed": false
   },
   "outputs": [],
   "source": [
    "model.get_topics([2], output_type='topic_words').print_rows(max_column_width=100)"
   ]
  },
  {
   "cell_type": "markdown",
   "metadata": {},
   "source": [
    "Interesting. Wonder what this set of documents is about. Let's get the full list of topic words learned by the model."
   ]
  },
  {
   "cell_type": "code",
   "execution_count": null,
   "metadata": {
    "collapsed": false
   },
   "outputs": [],
   "source": [
    "topics = model.get_topics()\n",
    "topics = topics.rename({'topic':'topic_id'})\n",
    "topics"
   ]
  },
  {
   "cell_type": "markdown",
   "metadata": {},
   "source": [
    "That SFrame is less useful, let's groupby all the same topic ids and create a list of words."
   ]
  },
  {
   "cell_type": "code",
   "execution_count": null,
   "metadata": {
    "collapsed": false
   },
   "outputs": [],
   "source": [
    "topics.groupby(['topic_id'], {'topic_words':gl.aggregate.CONCAT(\"word\")}).print_rows(max_column_width=80)"
   ]
  },
  {
   "cell_type": "markdown",
   "metadata": {},
   "source": [
    "This is the appropriate format for recording the topics learned, by topic_id.\n",
    "\n",
    "Great, so now we have the results SFrame and the Topics SFrame, both of which can be saved back as Spark RDDs."
   ]
  },
  {
   "cell_type": "markdown",
   "metadata": {},
   "source": [
    "### Step 6: Save Results to Spark RDD"
   ]
  },
  {
   "cell_type": "markdown",
   "metadata": {},
   "source": [
    "So now we have all the results ready as two SFrames. The first has the bag-of-words with the predicted topic_id, and the second has the topic words for each topic_id. These are both tables we can save as Spark RDDs, so subsequent Spark programs can utilize the findings from the Topic Model."
   ]
  },
  {
   "cell_type": "code",
   "execution_count": null,
   "metadata": {
    "collapsed": false
   },
   "outputs": [],
   "source": [
    "# to save the predictions as an RDD\n",
    "predictions_rdd = data.to_rdd(sc)\n",
    "predictions_rdd.saveAsTextFile('file:///tmp/predictions.rdd')"
   ]
  },
  {
   "cell_type": "code",
   "execution_count": null,
   "metadata": {
    "collapsed": false
   },
   "outputs": [],
   "source": [
    "# save the topic_ids with their topic words\n",
    "topics_rdd = topics.to_rdd(sc)\n",
    "topics_rdd.saveAsTextFile('file:///tmp/topics.rdd')"
   ]
  },
  {
   "cell_type": "markdown",
   "metadata": {},
   "source": [
    "And that's it! GraphLab Create works well with Apache Spark, allowing you to leverage what you've already built in Spark with GraphLab Create. No need to save to intermediary formats just to train ML models in GraphLab Create.\n",
    "\n",
    "For more information on using Apache Spark with GraphLab Create, check out the [User Guide section](http://dato.com/learn/userguide/#Spark_Integration)."
   ]
  }
 ],
 "metadata": {
  "kernelspec": {
   "display_name": "Python 2",
   "language": "python",
   "name": "python2"
  },
  "language_info": {
   "codemirror_mode": {
    "name": "ipython",
    "version": 2
   },
   "file_extension": ".py",
   "mimetype": "text/x-python",
   "name": "python",
   "nbconvert_exporter": "python",
   "pygments_lexer": "ipython2",
   "version": "2.7.10"
  }
 },
 "nbformat": 4,
 "nbformat_minor": 0
}
